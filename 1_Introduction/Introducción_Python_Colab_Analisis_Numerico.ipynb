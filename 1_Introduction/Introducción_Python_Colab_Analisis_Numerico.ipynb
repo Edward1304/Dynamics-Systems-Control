{
  "cells": [
    {
      "cell_type": "markdown",
      "metadata": {
        "id": "view-in-github",
        "colab_type": "text"
      },
      "source": [
        "<a href=\"https://colab.research.google.com/github/Edward1304/Dynamics-Systems-Control/blob/main/1_Introduction/Introducci%C3%B3n_Python_Colab_Analisis_Numerico.ipynb\" target=\"_parent\"><img src=\"https://colab.research.google.com/assets/colab-badge.svg\" alt=\"Open In Colab\"/></a>"
      ]
    },
    {
      "cell_type": "markdown",
      "metadata": {
        "id": "jM1MrY4RKTRP"
      },
      "source": [
        "#Tutorial Python con Google Colab\n",
        "\n",
        "\n"
      ]
    },
    {
      "cell_type": "markdown",
      "metadata": {
        "id": "view-in-github"
      },
      "source": [
        "<a href=\"https://colab.research.google.com/github/MarioBolanos/Modelado-y-Simulacion/blob/master/1_Introduction/Introducci%C3%B3n_Python_Colab_Analisis_Numerico.ipynb\" target=\"_parent\"><img src=\"https://colab.research.google.com/assets/colab-badge.svg\" alt=\"Open In Colab\"/></a>"
      ]
    },
    {
      "cell_type": "markdown",
      "metadata": {
        "id": "b9BHgALxZUjp"
      },
      "source": [
        "#Introducción\n",
        "Python es un gran lenguaje de programación de propósito general por sí solo, pero con la ayuda de algunas bibliotecas populares (numpy, scipy, matplotlib) se convierte en un poderoso entorno para la informática científica.\n",
        "\n",
        "Este hoja servira como una breve introducción a la programación en lenguaje Python para computación científica.\n",
        "\n",
        "En esta sección vamos a ver:\n",
        "\n",
        "* Python básico: tipos de datos básicos (contenedores, listas, diccionarios,\n",
        "* conjuntos, tuplas), funciones, clases\n",
        "* Numpy: matrices, indexación de matrices, tipos de datos, matemáticas de matrices, difusión\n",
        "* Algebra lineal: Instrucciónes básicas.\n",
        "* Matplotlib: trazado, subtramas, imágenes\n",
        "* Instalar paquetes, clonar repositorios y comandos del S.O\n",
        "* Subir y bajar archivos.\n",
        "* Usar GPU\n",
        "\n"
      ]
    },
    {
      "cell_type": "markdown",
      "metadata": {
        "id": "ehEJtCA3baMu"
      },
      "source": [
        "## Version de Python"
      ]
    },
    {
      "cell_type": "code",
      "execution_count": 1,
      "metadata": {
        "id": "ve2jIwiibKCp",
        "vscode": {
          "languageId": "python"
        },
        "outputId": "2352041e-01cf-461e-92d4-4d18f9306f54",
        "colab": {
          "base_uri": "https://localhost:8080/"
        }
      },
      "outputs": [
        {
          "output_type": "stream",
          "name": "stdout",
          "text": [
            "Python 3.10.12\n"
          ]
        }
      ],
      "source": [
        "!python --version"
      ]
    },
    {
      "cell_type": "markdown",
      "metadata": {
        "id": "NTNrDrLRbkYm"
      },
      "source": [
        "##Python básico"
      ]
    },
    {
      "cell_type": "markdown",
      "metadata": {
        "id": "-27kflkybuAg"
      },
      "source": [
        "Python es un lenguaje de programación multiparadigma de tipado dinámico de alto nivel. A menudo se dice que el código Python es casi como un pseudocódigo, ya que le permite expresar ideas muy poderosas en muy pocas líneas de código mientras es muy legible. Como ejemplo, aquí hay una implementación del algoritmo clásico de ordenación rápida en Python:"
      ]
    },
    {
      "cell_type": "code",
      "execution_count": 2,
      "metadata": {
        "id": "ozrAj6sIb0pw",
        "vscode": {
          "languageId": "python"
        },
        "outputId": "6950011b-5f05-4011-8596-2a7415ec8fa0",
        "colab": {
          "base_uri": "https://localhost:8080/"
        }
      },
      "outputs": [
        {
          "output_type": "stream",
          "name": "stdout",
          "text": [
            "[1, 1, 2, 3, 6, 8, 10]\n"
          ]
        }
      ],
      "source": [
        "def quicksort(arr):\n",
        "    if len(arr) <= 1:\n",
        "        return arr\n",
        "    pivot = arr[len(arr) // 2]\n",
        "    left = [x for x in arr if x < pivot]\n",
        "    middle = [x for x in arr if x == pivot]\n",
        "    right = [x for x in arr if x > pivot]\n",
        "    return quicksort(left) + middle + quicksort(right)\n",
        "\n",
        "print(quicksort([3,6,8,10,1,2,1]))"
      ]
    },
    {
      "cell_type": "markdown",
      "metadata": {
        "id": "r5SwW5cjcU69"
      },
      "source": [
        "\n",
        "### Tipos de datos básicos"
      ]
    },
    {
      "cell_type": "markdown",
      "metadata": {
        "id": "XyH2or2Xce4I"
      },
      "source": [
        "#### Numeros"
      ]
    },
    {
      "cell_type": "markdown",
      "metadata": {
        "id": "21eX8jEOc1Km"
      },
      "source": [
        "Los números enteros y flotantes funcionan como cabría esperar de otros idiomas:"
      ]
    },
    {
      "cell_type": "code",
      "execution_count": 3,
      "metadata": {
        "id": "igzNm1MAc3md",
        "vscode": {
          "languageId": "python"
        },
        "outputId": "f8edec76-97fe-418c-f97d-aa81f9ee00d3",
        "colab": {
          "base_uri": "https://localhost:8080/"
        }
      },
      "outputs": [
        {
          "output_type": "stream",
          "name": "stdout",
          "text": [
            "3 <class 'int'>\n"
          ]
        }
      ],
      "source": [
        "x=3\n",
        "print(x,type(x))"
      ]
    },
    {
      "cell_type": "code",
      "execution_count": 4,
      "metadata": {
        "id": "tJaZ0KqudPn-",
        "vscode": {
          "languageId": "python"
        },
        "outputId": "db431c30-1345-42c7-978f-038a831e56e7",
        "colab": {
          "base_uri": "https://localhost:8080/"
        }
      },
      "outputs": [
        {
          "output_type": "stream",
          "name": "stdout",
          "text": [
            "4\n",
            "2\n",
            "6\n",
            "9\n"
          ]
        }
      ],
      "source": [
        "print(x+1) # Suma\n",
        "print(x-1) # Resta\n",
        "print(x*2) # Multiplicación\n",
        "print(x**2)# Exponenciación"
      ]
    },
    {
      "cell_type": "code",
      "execution_count": 5,
      "metadata": {
        "id": "xC5_GVDJd049",
        "vscode": {
          "languageId": "python"
        },
        "outputId": "a3feed25-5324-413b-ea8d-adac9f529da8",
        "colab": {
          "base_uri": "https://localhost:8080/"
        }
      },
      "outputs": [
        {
          "output_type": "stream",
          "name": "stdout",
          "text": [
            "4\n"
          ]
        }
      ],
      "source": [
        "x+=1\n",
        "print(x)\n",
        "#x*=2\n",
        "#print(x)"
      ]
    },
    {
      "cell_type": "code",
      "execution_count": 6,
      "metadata": {
        "id": "iJabfo50fDbi",
        "vscode": {
          "languageId": "python"
        },
        "outputId": "ed8cb581-edad-4f52-9a9e-7c6de3f0951a",
        "colab": {
          "base_uri": "https://localhost:8080/"
        }
      },
      "outputs": [
        {
          "output_type": "stream",
          "name": "stdout",
          "text": [
            "<class 'float'>\n",
            "2.5 3.5 5.0 6.25\n"
          ]
        }
      ],
      "source": [
        "y =2.5\n",
        "print(type(y))\n",
        "print(y,y+1,y*2,y**2)"
      ]
    },
    {
      "cell_type": "markdown",
      "metadata": {
        "id": "CsPrMVMLflzV"
      },
      "source": [
        "Tenga en cuenta que, a diferencia de muchos lenguajes, Python no tiene operadores unarios de incremento (x ++) o decremento (x--).\n",
        "\n",
        "Python también tiene tipos incorporados para enteros largos y números complejos; puede encontrar todos los detalles en la [documentación] (https://docs.python.org/3.7/library/stdtypes.html#numeric-types-int-float-long-complex)."
      ]
    },
    {
      "cell_type": "markdown",
      "metadata": {
        "id": "ND06QG1FfvMu"
      },
      "source": [
        "####Boleanos"
      ]
    },
    {
      "cell_type": "markdown",
      "metadata": {
        "id": "Eq-2cw_Tfz5Z"
      },
      "source": [
        "Python implementa todos los operadores habituales para la lógica booleana, pero en lugar de símbolos (`&&`, `||`, etc.) usa palabras en inglés :"
      ]
    },
    {
      "cell_type": "code",
      "execution_count": 7,
      "metadata": {
        "id": "Y47epvRPgE9v",
        "vscode": {
          "languageId": "python"
        },
        "outputId": "98a528f8-3b38-4569-fca6-a4e6a97c2339",
        "colab": {
          "base_uri": "https://localhost:8080/"
        }
      },
      "outputs": [
        {
          "output_type": "stream",
          "name": "stdout",
          "text": [
            "<class 'bool'> <class 'bool'>\n"
          ]
        }
      ],
      "source": [
        "t,f= True, False\n",
        "print(type(t),type(f))"
      ]
    },
    {
      "cell_type": "markdown",
      "metadata": {
        "id": "HpyXeinMgd-F"
      },
      "source": [
        "Operaciones entre Boleanos\n"
      ]
    },
    {
      "cell_type": "code",
      "execution_count": 8,
      "metadata": {
        "id": "PaRvFgIBgYQA",
        "vscode": {
          "languageId": "python"
        },
        "outputId": "8f545a19-ff66-437f-ba2d-ddb2ec1cf3e9",
        "colab": {
          "base_uri": "https://localhost:8080/"
        }
      },
      "outputs": [
        {
          "output_type": "stream",
          "name": "stdout",
          "text": [
            "False\n",
            "True\n",
            "False\n",
            "True\n"
          ]
        }
      ],
      "source": [
        "print(t and f) # AND lógica\n",
        "print(t or f)  # OR lógica\n",
        "print(not t )  # Not lógica\n",
        "print(t != f)  # XOR lógica"
      ]
    },
    {
      "cell_type": "markdown",
      "metadata": {
        "id": "XMR1XmIYhPrl"
      },
      "source": [
        "####Cadenas (strings)"
      ]
    },
    {
      "cell_type": "code",
      "execution_count": 9,
      "metadata": {
        "id": "GiPk_da1fYU2",
        "vscode": {
          "languageId": "python"
        },
        "outputId": "fd292b32-e89e-4eec-c38e-a8153452d800",
        "colab": {
          "base_uri": "https://localhost:8080/"
        }
      },
      "outputs": [
        {
          "output_type": "stream",
          "name": "stdout",
          "text": [
            "Hola mundo\n",
            " hola mundo\n",
            "comillas\n",
            "\n",
            "4\n"
          ]
        }
      ],
      "source": [
        "hola= 'Hola'    #Pueden utilizar comillas simples\n",
        "mundo=\"mundo\"   # o comillas dobles\n",
        "hv=''' hola mundo\n",
        "comillas\n",
        "'''\n",
        "print (hola,mundo)\n",
        "print(hv)\n",
        "print(len(hola))"
      ]
    },
    {
      "cell_type": "code",
      "execution_count": 10,
      "metadata": {
        "id": "kperNvADh6QJ",
        "vscode": {
          "languageId": "python"
        },
        "outputId": "7fe2fdba-48a3-4c87-99f8-17e5b0bc3e35",
        "colab": {
          "base_uri": "https://localhost:8080/"
        }
      },
      "outputs": [
        {
          "output_type": "stream",
          "name": "stdout",
          "text": [
            "Hola espacio mundo\n"
          ]
        }
      ],
      "source": [
        "hm= hola+' espacio '+mundo # Concatenación de cadenas\n",
        "print(hm)"
      ]
    },
    {
      "cell_type": "code",
      "execution_count": 11,
      "metadata": {
        "id": "ZgYCsb28i3aW",
        "vscode": {
          "languageId": "python"
        },
        "outputId": "eb9a57de-088a-452e-cd8e-4421a9760722",
        "colab": {
          "base_uri": "https://localhost:8080/"
        }
      },
      "outputs": [
        {
          "output_type": "stream",
          "name": "stdout",
          "text": [
            "Hola mundo 12\n"
          ]
        }
      ],
      "source": [
        "hm= '{} {} {}'.format(hola,mundo,12) # formato de cadena\n",
        "print(hm)"
      ]
    },
    {
      "cell_type": "markdown",
      "metadata": {
        "id": "UW44tgKcjorx"
      },
      "source": [
        "Los objetos de cadena tienen un montón de métodos útiles; por ejemplo:"
      ]
    },
    {
      "cell_type": "code",
      "execution_count": 12,
      "metadata": {
        "id": "1vqqDvvfjrUd",
        "vscode": {
          "languageId": "python"
        },
        "outputId": "575d4f1d-2064-46c2-bf33-1f55ce492efc",
        "colab": {
          "base_uri": "https://localhost:8080/"
        }
      },
      "outputs": [
        {
          "output_type": "stream",
          "name": "stdout",
          "text": [
            "Hola\n",
            "HOLA\n",
            "   hola\n",
            "  hola \n",
            "ho(ell)a\n",
            "mundo\n"
          ]
        }
      ],
      "source": [
        "s = \"hola\"\n",
        "print(s.capitalize())  # Capitalizar una cadena\n",
        "print(s.upper())       # Convertir una cadena en mayusculas\n",
        "print(s.rjust(7))      # Justificar a la derecha una cadena, rellenando con espacios\n",
        "print(s.center(7))     # Centrar una cadena, rellenando con espacios\n",
        "print(s.replace('l', '(ell)'))  # Remplazar todas la instancias de una subcadena por otra\n",
        "print('    mundo   '.strip())  # Eliminar los espacios en blanco iniciales y finales"
      ]
    },
    {
      "cell_type": "markdown",
      "metadata": {
        "id": "cGkiPymHlGIx"
      },
      "source": [
        " Puede encontrar una lista de todos los métodos de cadena en la [documentación] (https://docs.python.org/3.7/library/stdtypes.html#string-methods)."
      ]
    },
    {
      "cell_type": "markdown",
      "metadata": {
        "id": "SXr1KX6Ulbt-"
      },
      "source": [
        "###Contenedores"
      ]
    },
    {
      "cell_type": "markdown",
      "metadata": {
        "id": "ZPykFqh2lftM"
      },
      "source": [
        "####Listas"
      ]
    },
    {
      "cell_type": "markdown",
      "metadata": {
        "id": "btZLSguslmO8"
      },
      "source": [
        "Una lista es el equivalente en Python de una matriz, pero se puede cambiar de tamaño y puede contener elementos de diferentes tipos:"
      ]
    },
    {
      "cell_type": "code",
      "execution_count": 13,
      "metadata": {
        "id": "5K0lm7qRl6_t",
        "vscode": {
          "languageId": "python"
        },
        "outputId": "a273b11e-17ad-4d61-f6d0-64d47a3c4a93",
        "colab": {
          "base_uri": "https://localhost:8080/"
        }
      },
      "outputs": [
        {
          "output_type": "stream",
          "name": "stdout",
          "text": [
            "[3, 1, 2, 5, 8] 2\n",
            "5\n",
            "3\n"
          ]
        }
      ],
      "source": [
        "xs = [3, 1, 2, 5, 8]    # Crear una lista\n",
        "print(xs, xs[2])\n",
        "print(xs[-2])           # Indices negativos cuentan desde el final de la lista;\n",
        "print(xs[0])"
      ]
    },
    {
      "cell_type": "code",
      "execution_count": 14,
      "metadata": {
        "id": "4suYHDBJmtyE",
        "vscode": {
          "languageId": "python"
        },
        "outputId": "01c5e58f-2808-4a34-d46a-9f3251516b0f",
        "colab": {
          "base_uri": "https://localhost:8080/"
        }
      },
      "outputs": [
        {
          "output_type": "stream",
          "name": "stdout",
          "text": [
            "[3, 1, 'comida', 5, 8]\n"
          ]
        }
      ],
      "source": [
        "xs[2]='comida'  # Lista puede contener elementos de diferentes tipos\n",
        "print(xs)"
      ]
    },
    {
      "cell_type": "code",
      "execution_count": 15,
      "metadata": {
        "id": "X2Gf70A0nJ8i",
        "vscode": {
          "languageId": "python"
        },
        "outputId": "c42b1278-e1cb-4359-b2a8-091a235f4200",
        "colab": {
          "base_uri": "https://localhost:8080/"
        }
      },
      "outputs": [
        {
          "output_type": "stream",
          "name": "stdout",
          "text": [
            "[3, 1, 'comida', 5, 8, 'rapida']\n"
          ]
        }
      ],
      "source": [
        "xs.append(\"rapida\") #Agregar un nuevo elemento al final de la lista\n",
        "print(xs)"
      ]
    },
    {
      "cell_type": "code",
      "execution_count": 16,
      "metadata": {
        "id": "vQkyN0VrnXZa",
        "vscode": {
          "languageId": "python"
        },
        "outputId": "2d5fb014-a2d7-4a38-a669-0fe7d0bea3a6",
        "colab": {
          "base_uri": "https://localhost:8080/"
        }
      },
      "outputs": [
        {
          "output_type": "stream",
          "name": "stdout",
          "text": [
            "rapida\n",
            "[3, 1, 'comida', 5, 8]\n"
          ]
        }
      ],
      "source": [
        "x = xs.pop() #Remover y retornar el último elemento de la lista\n",
        "print(x)\n",
        "print(xs)"
      ]
    },
    {
      "cell_type": "markdown",
      "metadata": {
        "id": "mGvd3PWqoMgM"
      },
      "source": [
        "####Cortar listas\n"
      ]
    },
    {
      "cell_type": "markdown",
      "metadata": {
        "id": "C_0TYk0boaQF"
      },
      "source": [
        "Además de acceder a los elementos de la lista de uno en uno, Python proporciona una sintaxis concisa para acceder a las sublistas; esto se conoce como rebanar:"
      ]
    },
    {
      "cell_type": "code",
      "execution_count": 17,
      "metadata": {
        "id": "oZDLPlr2oGAN",
        "vscode": {
          "languageId": "python"
        },
        "outputId": "e2215f71-7181-4531-8bec-80ebbc6194ce",
        "colab": {
          "base_uri": "https://localhost:8080/"
        }
      },
      "outputs": [
        {
          "output_type": "stream",
          "name": "stdout",
          "text": [
            "[0, 1, 2, 3, 4]\n",
            "[2, 3]\n",
            "[2, 3, 4]\n",
            "[0, 1]\n",
            "[0, 1, 2, 3, 4]\n",
            "[0, 1, 2, 3]\n",
            "[0, 1, 8, 9, 4]\n"
          ]
        }
      ],
      "source": [
        "nums = list(range(5))    # \"range\" es una función incorporada que crea una lista de enteros\n",
        "print(nums)         # Imprime \"[0, 1, 2, 3, 4]\"\n",
        "print(nums[2:4])    # Obtiene un segmento del índice 2 al 4 (exclusivo); imprime \"[2, 3]\"\n",
        "print(nums[2:])     # Obtenga un corte desde el índice 2 hasta el final; imprime \"[2, 3, 4]\"\n",
        "print(nums[:2])     # Obtenga un segmento desde el principio hasta el índice 2 (exclusivo); imprime \"[0, 1]\"\n",
        "print(nums[:])      # Obtenga una porción de la lista completa; imprime [\"0, 1, 2, 3, 4]\"\n",
        "print(nums[:-1])    # Los índices de corte pueden ser negativos; imprime [\"0, 1, 2, 3]\"\n",
        "nums[2:4] = [8, 9] # Asignar una nueva sublista a un sector\n",
        "print(nums)         # imprime \"[0, 1, 8, 9, 4]\""
      ]
    },
    {
      "cell_type": "markdown",
      "metadata": {
        "id": "NnTzSd7LrApi"
      },
      "source": [
        "####Ciclos"
      ]
    },
    {
      "cell_type": "markdown",
      "metadata": {
        "id": "OTGQGaZ6rIPf"
      },
      "source": [
        "Puede recorrer los elementos de una lista como esta:\n"
      ]
    },
    {
      "cell_type": "code",
      "execution_count": 18,
      "metadata": {
        "id": "GC4K5ICQrQhE",
        "vscode": {
          "languageId": "python"
        },
        "outputId": "871f7f0a-736d-48c3-c44a-a5c514aa531a",
        "colab": {
          "base_uri": "https://localhost:8080/"
        }
      },
      "outputs": [
        {
          "output_type": "stream",
          "name": "stdout",
          "text": [
            "gato\n",
            "perro\n",
            "mono\n"
          ]
        }
      ],
      "source": [
        "animales = ['gato', 'perro', 'mono']\n",
        "for animal in animales:\n",
        "    print(animal)"
      ]
    },
    {
      "cell_type": "markdown",
      "metadata": {
        "id": "1Snq2ge0rs0X"
      },
      "source": [
        "Si desea acceder al índice de cada elemento dentro del cuerpo de un bucle, use la función incorporada `enumerate`:"
      ]
    },
    {
      "cell_type": "code",
      "execution_count": 19,
      "metadata": {
        "id": "yeDr-QKJr2Fz",
        "vscode": {
          "languageId": "python"
        },
        "outputId": "1e67403f-5437-4586-ef60-615e4a0dd102",
        "colab": {
          "base_uri": "https://localhost:8080/"
        }
      },
      "outputs": [
        {
          "output_type": "stream",
          "name": "stdout",
          "text": [
            "#1 = gato\n",
            "#2 = perro\n",
            "#3 = mono\n"
          ]
        }
      ],
      "source": [
        "animales = ['gato', 'perro', 'mono']\n",
        "for idx,animal in enumerate(animales):\n",
        "    print('#{} = {}'.format(idx+1,animal))"
      ]
    },
    {
      "cell_type": "markdown",
      "metadata": {
        "id": "lvy_pLtvs4Iv"
      },
      "source": [
        "#### Listas comprimidas:"
      ]
    },
    {
      "cell_type": "markdown",
      "metadata": {
        "id": "RS0VL3Fns5M9"
      },
      "source": [
        "A la hora de programar, con frecuencia queremos transformar un tipo de datos en otro. Como ejemplo simple, considere el siguiente código que calcula números cuadrados:"
      ]
    },
    {
      "cell_type": "code",
      "execution_count": 20,
      "metadata": {
        "colab": {
          "base_uri": "https://localhost:8080/"
        },
        "id": "J8sKX8WMtbfs",
        "outputId": "2d789de3-c098-414c-ce26-a297164f6dce",
        "vscode": {
          "languageId": "python"
        }
      },
      "outputs": [
        {
          "output_type": "stream",
          "name": "stdout",
          "text": [
            "[0, 1, 4, 9, 16]\n"
          ]
        }
      ],
      "source": [
        "nums = [0, 1, 2, 3, 4]\n",
        "cuadrados = []\n",
        "for x in nums:\n",
        "    cuadrados.append(x ** 2)\n",
        "print(cuadrados)"
      ]
    },
    {
      "cell_type": "markdown",
      "metadata": {
        "id": "tXxwFwgIulic"
      },
      "source": [
        "El código puede ser simplificado usando listas comprimidas:"
      ]
    },
    {
      "cell_type": "code",
      "execution_count": 21,
      "metadata": {
        "colab": {
          "base_uri": "https://localhost:8080/"
        },
        "id": "TM9A5oQptgjd",
        "outputId": "214bc029-e7ce-4e68-a15c-e59e41833bfb",
        "vscode": {
          "languageId": "python"
        }
      },
      "outputs": [
        {
          "output_type": "stream",
          "name": "stdout",
          "text": [
            "[0, 1, 4, 9, 16]\n"
          ]
        }
      ],
      "source": [
        "nums = [0,1,2,3,4]\n",
        "cuadrados = [x**2 for x in nums]\n",
        "print(cuadrados)"
      ]
    },
    {
      "cell_type": "markdown",
      "metadata": {
        "id": "7d7rE4CGvQ6P"
      },
      "source": [
        "####Diccionariós"
      ]
    },
    {
      "cell_type": "markdown",
      "metadata": {
        "id": "vXN29iS4vVNM"
      },
      "source": [
        "Un diccionario almacena pares (clave, valor), similar a un `Map` en Java o un objeto en Javascript. Puedes usarlo así:"
      ]
    },
    {
      "cell_type": "code",
      "execution_count": 22,
      "metadata": {
        "id": "whNYGbD2vi7Q",
        "vscode": {
          "languageId": "python"
        },
        "outputId": "5aaa795a-0fad-4059-b343-3a0c3c68993a",
        "colab": {
          "base_uri": "https://localhost:8080/"
        }
      },
      "outputs": [
        {
          "output_type": "stream",
          "name": "stdout",
          "text": [
            "cute\n",
            "True\n"
          ]
        }
      ],
      "source": [
        "d = {'cat': 'cute', 'dog': 'furry'}  # Crea un nuevo diccionario con alguna información\n",
        "print(d['cat'])       # Obtener una entrada de un diccionario; imprime \"cute\"\n",
        "print('cat' in d)     # Comprueba si un diccionario tiene una clave determinada; imprime \"True\""
      ]
    },
    {
      "cell_type": "code",
      "execution_count": 23,
      "metadata": {
        "id": "tn8tmQMIwWci",
        "vscode": {
          "languageId": "python"
        },
        "outputId": "9251eb51-31e5-4b98-e9a8-3880ebde3cf3",
        "colab": {
          "base_uri": "https://localhost:8080/"
        }
      },
      "outputs": [
        {
          "output_type": "stream",
          "name": "stdout",
          "text": [
            "wet\n"
          ]
        }
      ],
      "source": [
        "d['fish'] = 'wet'    # Establecer una entrada en un diccionario\n",
        "print(d['fish'])     # Imprime \"wet\""
      ]
    },
    {
      "cell_type": "code",
      "execution_count": 25,
      "metadata": {
        "id": "KotbQikswr4-",
        "vscode": {
          "languageId": "python"
        },
        "outputId": "bf2c2a1f-1567-4099-a39c-b101d381b3c8",
        "colab": {
          "base_uri": "https://localhost:8080/",
          "height": 176
        }
      },
      "outputs": [
        {
          "output_type": "error",
          "ename": "KeyError",
          "evalue": "'monkey'",
          "traceback": [
            "\u001b[0;31m---------------------------------------------------------------------------\u001b[0m",
            "\u001b[0;31mKeyError\u001b[0m                                  Traceback (most recent call last)",
            "\u001b[0;32m<ipython-input-25-78fc9745d9cf>\u001b[0m in \u001b[0;36m<cell line: 1>\u001b[0;34m()\u001b[0m\n\u001b[0;32m----> 1\u001b[0;31m \u001b[0mprint\u001b[0m\u001b[0;34m(\u001b[0m\u001b[0md\u001b[0m\u001b[0;34m[\u001b[0m\u001b[0;34m'monkey'\u001b[0m\u001b[0;34m]\u001b[0m\u001b[0;34m)\u001b[0m  \u001b[0;31m# KeyError: 'monkey' not a key of d\u001b[0m\u001b[0;34m\u001b[0m\u001b[0;34m\u001b[0m\u001b[0m\n\u001b[0m",
            "\u001b[0;31mKeyError\u001b[0m: 'monkey'"
          ]
        }
      ],
      "source": [
        "print(d['monkey'])  # KeyError: 'monkey' not a key of d"
      ]
    },
    {
      "cell_type": "code",
      "execution_count": 26,
      "metadata": {
        "id": "wicppUqOxSYP",
        "vscode": {
          "languageId": "python"
        },
        "outputId": "e18acb00-9544-499c-e35c-d43f6ed79629",
        "colab": {
          "base_uri": "https://localhost:8080/"
        }
      },
      "outputs": [
        {
          "output_type": "stream",
          "name": "stdout",
          "text": [
            "N/A\n",
            "wet\n"
          ]
        }
      ],
      "source": [
        "print(d.get('monkey', 'N/A'))  # Obtener un elemento con un valor predeterminado; Imprime \"N/A\"\n",
        "print(d.get('fish', 'N/A'))    # Obtener un elemento con un valor predeterminado; Imprime \"wet\""
      ]
    },
    {
      "cell_type": "markdown",
      "metadata": {
        "id": "MNpuiTeAxp67"
      },
      "source": [
        "Es fácil iterar sobre las claves en un diccionario:"
      ]
    },
    {
      "cell_type": "code",
      "execution_count": 27,
      "metadata": {
        "id": "HnPA8oqkxquu",
        "vscode": {
          "languageId": "python"
        },
        "outputId": "fea66ea8-f312-4779-f472-e985549e3280",
        "colab": {
          "base_uri": "https://localhost:8080/"
        }
      },
      "outputs": [
        {
          "output_type": "stream",
          "name": "stdout",
          "text": [
            "un(a) persona tiene 2 piernas/patas\n",
            "un(a) gato tiene 4 piernas/patas\n",
            "un(a) araña tiene 8 piernas/patas\n"
          ]
        }
      ],
      "source": [
        "d = {'persona': 2, 'gato': 4, 'araña': 8}\n",
        "for animal, piernas in d.items():\n",
        "    print('un(a) {} tiene {} piernas/patas'.format(animal, piernas))"
      ]
    },
    {
      "cell_type": "markdown",
      "metadata": {
        "id": "inU16mB8yUTX"
      },
      "source": [
        "Los diccionariós tambien pueden ser comprimidos"
      ]
    },
    {
      "cell_type": "code",
      "execution_count": 28,
      "metadata": {
        "id": "w9doQnreyYiL",
        "vscode": {
          "languageId": "python"
        },
        "outputId": "ab00d7f2-de38-45f2-a141-afb0a5c505d6",
        "colab": {
          "base_uri": "https://localhost:8080/"
        }
      },
      "outputs": [
        {
          "output_type": "stream",
          "name": "stdout",
          "text": [
            "{0: 0, 2: 4, 4: 16}\n"
          ]
        }
      ],
      "source": [
        "nums = [0, 1, 2, 3, 4]\n",
        "even_num_to_square = {x: x ** 2 for x in nums if x % 2 == 0}\n",
        "print(even_num_to_square)"
      ]
    },
    {
      "cell_type": "markdown",
      "metadata": {
        "id": "CIbJzZZy1aie"
      },
      "source": [
        "####Conjuntos"
      ]
    },
    {
      "cell_type": "markdown",
      "metadata": {
        "id": "tAiDV9g41ddk"
      },
      "source": [
        "Un conjunto es una colección desordenada de elementos distintos. Como ejemplo simple, considere lo siguiente:"
      ]
    },
    {
      "cell_type": "code",
      "execution_count": 29,
      "metadata": {
        "id": "4mi8ljPQ1e8b",
        "vscode": {
          "languageId": "python"
        },
        "outputId": "b11ab572-2829-41a3-c9e1-398965fedc7f",
        "colab": {
          "base_uri": "https://localhost:8080/"
        }
      },
      "outputs": [
        {
          "output_type": "stream",
          "name": "stdout",
          "text": [
            "True\n",
            "False\n"
          ]
        }
      ],
      "source": [
        "animales = {'gato', 'perro'}\n",
        "print('gato' in animales)   # Compruebe si un elemento está en un conjunto; imprime \"True\"\n",
        "print('pescado' in animales)  # imprime \"False\"\n"
      ]
    },
    {
      "cell_type": "code",
      "execution_count": 30,
      "metadata": {
        "id": "Oy_kbKsC1zLH",
        "vscode": {
          "languageId": "python"
        },
        "outputId": "0ba03715-c822-4971-ad85-e4016b6a2606",
        "colab": {
          "base_uri": "https://localhost:8080/"
        }
      },
      "outputs": [
        {
          "output_type": "stream",
          "name": "stdout",
          "text": [
            "True\n",
            "3\n"
          ]
        }
      ],
      "source": [
        "animales.add('pescado')      # Añade un elemento al grupo\n",
        "print('pescado' in animales)\n",
        "print(len(animales))       # Numero de elementos en un grupo;"
      ]
    },
    {
      "cell_type": "markdown",
      "metadata": {
        "id": "QpT_LaxR2O6Q"
      },
      "source": [
        "_Loops_: iterar sobre un conjunto tiene la misma sintaxis que iterar sobre una lista; sin embargo, dado que los conjuntos no están ordenados, no puede hacer suposiciones sobre el orden en el que visita los elementos del conjunto:"
      ]
    },
    {
      "cell_type": "code",
      "execution_count": 31,
      "metadata": {
        "id": "wWHYTC4D2MZE",
        "vscode": {
          "languageId": "python"
        },
        "outputId": "a6f33f5e-8c1f-4cbb-c32a-a249ab31d8be",
        "colab": {
          "base_uri": "https://localhost:8080/"
        }
      },
      "outputs": [
        {
          "output_type": "stream",
          "name": "stdout",
          "text": [
            "#1: perro\n",
            "#2: gato\n",
            "#3: pescado\n"
          ]
        }
      ],
      "source": [
        "animales = {'gato', 'perro', 'pescado'}\n",
        "for idx, animal in enumerate(animales):\n",
        "    print('#{}: {}'.format(idx + 1, animal))"
      ]
    },
    {
      "cell_type": "markdown",
      "metadata": {
        "id": "OYme8DoV3S9d"
      },
      "source": [
        "####Tuplas"
      ]
    },
    {
      "cell_type": "markdown",
      "metadata": {
        "id": "2NkrjT6J3W2_"
      },
      "source": [
        "Una tupla es una lista ordenada (inmutable) de valores. Una tupla es similar en muchos aspectos a una lista; una de las diferencias más importantes es que las tuplas se pueden utilizar como claves en diccionarios y como elementos de conjuntos, mientras que las listas no. Aquí hay un ejemplo trivial:"
      ]
    },
    {
      "cell_type": "code",
      "execution_count": 32,
      "metadata": {
        "id": "ojY-BIvr3i76",
        "vscode": {
          "languageId": "python"
        },
        "outputId": "72c1c798-c91f-4cd2-ec93-7f330f90f765",
        "colab": {
          "base_uri": "https://localhost:8080/"
        }
      },
      "outputs": [
        {
          "output_type": "stream",
          "name": "stdout",
          "text": [
            "<class 'tuple'>\n",
            "5\n",
            "1\n"
          ]
        }
      ],
      "source": [
        "d = {(x, x + 1): x for x in range(10)}  # Crea un diccionario con claves de tupla\n",
        "t = (5, 6)       # Crear una tupla\n",
        "print(type(t))\n",
        "print(d[t])\n",
        "print(d[(1, 2)])"
      ]
    },
    {
      "cell_type": "markdown",
      "metadata": {
        "id": "RlVLWSAl2Puv"
      },
      "source": []
    },
    {
      "cell_type": "code",
      "execution_count": 33,
      "metadata": {
        "id": "CkyFv1S85JfW",
        "vscode": {
          "languageId": "python"
        },
        "outputId": "de7f3986-0484-41cf-c062-49164bc5179d",
        "colab": {
          "base_uri": "https://localhost:8080/"
        }
      },
      "outputs": [
        {
          "output_type": "stream",
          "name": "stdout",
          "text": [
            "{0: -1, 1: 0, 2: 1, 3: 2, 4: 3, 5: 4, 6: 5, 7: 6, 8: 7, 9: 8}\n"
          ]
        }
      ],
      "source": [
        "y={y:(y-1) for y in range(10)}\n",
        "print(y)"
      ]
    },
    {
      "cell_type": "markdown",
      "metadata": {
        "id": "M-AakjYd6EhC"
      },
      "source": [
        "###Functions"
      ]
    },
    {
      "cell_type": "markdown",
      "metadata": {
        "id": "jmnHS_0r6F2S"
      },
      "source": [
        "Las funciones de Python se definen usando la palabra clave `def`. Por ejemplo:"
      ]
    },
    {
      "cell_type": "code",
      "execution_count": 34,
      "metadata": {
        "id": "lCPZhFvF6P-h",
        "vscode": {
          "languageId": "python"
        },
        "outputId": "ce69f623-f505-4f96-f8a3-9c93857948ec",
        "colab": {
          "base_uri": "https://localhost:8080/"
        }
      },
      "outputs": [
        {
          "output_type": "stream",
          "name": "stdout",
          "text": [
            "Negativo\n",
            "Cero\n",
            "Positivo\n"
          ]
        }
      ],
      "source": [
        "def sign(x):\n",
        "    if x > 0:\n",
        "       return 'Positivo'\n",
        "    elif x < 0:\n",
        "        return 'Negativo'\n",
        "    else:\n",
        "        return 'Cero'\n",
        "\n",
        "for x in [-1, 0, 1]:\n",
        "    print(sign(x))"
      ]
    },
    {
      "cell_type": "markdown",
      "metadata": {
        "id": "BD4uh2n26ZBp"
      },
      "source": [
        "A menudo definiremos funciones para tomar argumentos de palabras clave opcionales, como este:"
      ]
    },
    {
      "cell_type": "code",
      "execution_count": 35,
      "metadata": {
        "id": "3pWj0Yta6jnw",
        "vscode": {
          "languageId": "python"
        },
        "outputId": "016e0125-2649-4aaf-a4dc-1729703d6df2",
        "colab": {
          "base_uri": "https://localhost:8080/"
        }
      },
      "outputs": [
        {
          "output_type": "stream",
          "name": "stdout",
          "text": [
            "hola, Carlos!\n",
            "HOLA, JUAN\n"
          ]
        }
      ],
      "source": [
        "def hola(name, loud=False):\n",
        "    if loud:\n",
        "        print('HOLA, {}'.format(name.upper()))\n",
        "    else:\n",
        "        print('hola, {}!'.format(name))\n",
        "\n",
        "hola('Carlos')\n",
        "hola('Juan', loud=True)"
      ]
    },
    {
      "cell_type": "markdown",
      "metadata": {
        "id": "awynGbnc42C_"
      },
      "source": [
        "####Ejemplos 1:\n",
        "\n",
        "Escribir una función que reciba un número entero positivo y devuelva su factorial.\n",
        "\n",
        "\n"
      ]
    },
    {
      "cell_type": "code",
      "execution_count": 36,
      "metadata": {
        "id": "_PtiAn5E87e7",
        "vscode": {
          "languageId": "python"
        },
        "outputId": "a656633d-d0ba-435e-8d81-2f7f51a8dae6",
        "colab": {
          "base_uri": "https://localhost:8080/"
        }
      },
      "outputs": [
        {
          "output_type": "stream",
          "name": "stdout",
          "text": [
            "24\n",
            "2432902008176640000\n"
          ]
        }
      ],
      "source": [
        "def factorial(n):\n",
        "    \"\"\"Función que calcula el factorial de un número entero positivo.\n",
        "    Parámetros\n",
        "    n: Es un entero positivo.\n",
        "    Devuelve el factorial de n.\n",
        "    \"\"\"\n",
        "    tmp = 1\n",
        "    for i in range(n):\n",
        "        tmp *= i+1\n",
        "    return tmp\n",
        "\n",
        "print(factorial(4))\n",
        "print(factorial(20))"
      ]
    },
    {
      "cell_type": "markdown",
      "metadata": {
        "id": "A_GHmvLu5CsA"
      },
      "source": [
        "####Ejemplo 2:\n",
        "Escribir una función que reciba una muestra de números en una lista y devuelva otra lista con sus cuadrados."
      ]
    },
    {
      "cell_type": "code",
      "execution_count": 37,
      "metadata": {
        "id": "AtGjttZx9Eun",
        "vscode": {
          "languageId": "python"
        },
        "outputId": "33070a81-adde-4e43-f47e-84a9927b0267",
        "colab": {
          "base_uri": "https://localhost:8080/"
        }
      },
      "outputs": [
        {
          "output_type": "stream",
          "name": "stdout",
          "text": [
            "[1, 4, 9, 16, 25]\n",
            "[5.289999999999999, 32.49, 46.239999999999995, 94.08999999999999, 146.41, 243.35999999999999]\n"
          ]
        }
      ],
      "source": [
        "def square(sample):\n",
        "    \"\"\"Función que calcula los cuadrados de una lista de números.\n",
        "    Parámetros\n",
        "    sample: Es una lista de números\n",
        "    Devuelve una lista con los cuadrados de los números de la lista sample.\n",
        "    \"\"\"\n",
        "    list = []\n",
        "    for i in sample:\n",
        "        list.append(i**2)\n",
        "    return list\n",
        "\n",
        "print(square([1, 2, 3, 4, 5]))\n",
        "print(square([2.3, 5.7, 6.8, 9.7, 12.1, 15.6]))"
      ]
    },
    {
      "cell_type": "code",
      "execution_count": 38,
      "metadata": {
        "id": "cpenEt6U9aLm",
        "vscode": {
          "languageId": "python"
        },
        "outputId": "ea2fcd06-9606-4cf1-a639-05230c5d4279",
        "colab": {
          "base_uri": "https://localhost:8080/"
        }
      },
      "outputs": [
        {
          "output_type": "stream",
          "name": "stdout",
          "text": [
            "[1, 4, 9, 16, 25]\n",
            "[5.289999999999999, 32.49, 46.239999999999995, 94.08999999999999, 146.41, 243.35999999999999]\n"
          ]
        }
      ],
      "source": [
        "def square(*sample):\n",
        "    \"\"\"Función que calcula los cuadrados de una lista de números.\n",
        "    Parámetros\n",
        "    *sample: Es una secuencia de números separados por comas.\n",
        "    Devuelve una lista con los cuadrados de los números de sample.\n",
        "    \"\"\"\n",
        "    list = []\n",
        "    for i in sample:\n",
        "        list.append(i**2)\n",
        "    return list\n",
        "\n",
        "print(square(1, 2, 3, 4, 5))\n",
        "print(square(2.3, 5.7, 6.8, 9.7, 12.1, 15.6))"
      ]
    },
    {
      "cell_type": "markdown",
      "metadata": {
        "id": "gEZtDW625ih4"
      },
      "source": [
        "#### Ejemplo 3:\n",
        "Escribir una función que convierta un número decimal en binario y otra que convierta un número binario en decimal."
      ]
    },
    {
      "cell_type": "code",
      "execution_count": 39,
      "metadata": {
        "id": "purmi0ih9ffP",
        "vscode": {
          "languageId": "python"
        },
        "outputId": "4a90cf96-b6db-4d3d-c305-c2f28cdac7b5",
        "colab": {
          "base_uri": "https://localhost:8080/"
        }
      },
      "outputs": [
        {
          "output_type": "stream",
          "name": "stdout",
          "text": [
            "22\n",
            "10110\n",
            "22\n",
            "10110\n"
          ]
        }
      ],
      "source": [
        "def to_decimal(n):\n",
        "    \"\"\"Función que convierte un número binario en decimal.\n",
        "    Parámetros:\n",
        "        - n: Es una cadena de ceros y unos.\n",
        "    Devuelve:\n",
        "        El número decimal correspondiente a n.\n",
        "    \"\"\"\n",
        "    n = list(n)\n",
        "    n.reverse()\n",
        "    decimal = 0\n",
        "    for i in range(len(n)):\n",
        "        decimal += int(n[i]) * 2 ** i\n",
        "    return decimal\n",
        "\n",
        "def to_binary(n):\n",
        "    \"\"\"Función que convierte un número decimal en binario.\n",
        "    Parámetros:\n",
        "        - n: Es un número entero.\n",
        "    Devuelve:\n",
        "        El número binario correspondiente a n.\n",
        "    \"\"\"\n",
        "    binary = []\n",
        "    while n > 0:\n",
        "        binary.append(str(n % 2))\n",
        "        n //= 2\n",
        "    binary.reverse()\n",
        "    return ''.join(binary)\n",
        "\n",
        "print(to_decimal('10110'))\n",
        "print(to_binary(22))\n",
        "print(to_decimal(to_binary(22)))\n",
        "print(to_binary(to_decimal('10110')))"
      ]
    },
    {
      "cell_type": "markdown",
      "metadata": {
        "id": "kxXmuLcs5Ijv"
      },
      "source": [
        "#### Ejemplo 4:\n",
        "\n",
        "Escribir un programa que reciba una cadena de caracteres y devuelva un diccionario con cada palabra que contiene y su frecuencia. Escribir otra función que reciba el diccionario generado con la función anterior y devuelva una tupla con la palabra más repetida y su frecuencia."
      ]
    },
    {
      "cell_type": "code",
      "execution_count": 40,
      "metadata": {
        "id": "iojQnKAQ9zJH",
        "vscode": {
          "languageId": "python"
        },
        "outputId": "071caa3e-a54f-41f7-c00b-c280a0885d15",
        "colab": {
          "base_uri": "https://localhost:8080/"
        }
      },
      "outputs": [
        {
          "output_type": "stream",
          "name": "stdout",
          "text": [
            "{'Como': 1, 'quieres': 1, 'que': 4, 'te': 1, 'quiera': 3, 'si': 1, 'el': 1, 'quiero': 2, 'me': 3, 'no': 1, 'quiere': 1, 'como': 1}\n",
            "('que', 4)\n"
          ]
        }
      ],
      "source": [
        "def count_words(text):\n",
        "    \"\"\"Función que cuenta el número de veces que aparece cada palabra en un texto.\n",
        "    Parámetros:\n",
        "        - text: Es una cadena de caracteres.\n",
        "    Devuelve:\n",
        "        Un diccionario con pares palabra:frecuencia con las palabras contenidas en el texto y su frecuencia.\n",
        "    \"\"\"\n",
        "    text = text.split()\n",
        "    words = {}\n",
        "    for i in text:\n",
        "        if i in words:\n",
        "            words[i] += 1\n",
        "        else:\n",
        "            words[i] = 1\n",
        "    return words\n",
        "\n",
        "def most_repeated(words):\n",
        "    max_word = ''\n",
        "    max_freq = 0\n",
        "    for word, freq in words.items():\n",
        "        if freq > max_freq:\n",
        "            max_word = word\n",
        "            max_freq = freq\n",
        "    return max_word, max_freq\n",
        "\n",
        "text = 'Como quieres que te quiera si el que quiero que me quiera no me quiere como quiero que me quiera'\n",
        "print(count_words(text))\n",
        "print(most_repeated(count_words(text)))"
      ]
    },
    {
      "cell_type": "markdown",
      "metadata": {
        "id": "TVN5aqsOxrb6"
      },
      "source": [
        "###Classes"
      ]
    },
    {
      "cell_type": "markdown",
      "metadata": {
        "id": "ZQEZNm5Sxvmb"
      },
      "source": [
        "La sintaxis para definir clases en Python es sencilla:"
      ]
    },
    {
      "cell_type": "code",
      "execution_count": 41,
      "metadata": {
        "id": "IP4LlKgLyOGM",
        "vscode": {
          "languageId": "python"
        },
        "outputId": "f0f508e6-95b7-4de7-f314-b70ff9c16df2",
        "colab": {
          "base_uri": "https://localhost:8080/"
        }
      },
      "outputs": [
        {
          "output_type": "stream",
          "name": "stdout",
          "text": [
            "hola, Carlos!\n",
            "HOLA, CARLOS!\n"
          ]
        }
      ],
      "source": [
        "class Saludo:\n",
        "\n",
        "    # Constructor\n",
        "    def __init__(self, name):\n",
        "        self.name = name  # Crea  una instancia variable\n",
        "\n",
        "    # Método de instancia\n",
        "    def greet(self, alto=False):\n",
        "        if alto:\n",
        "          print('HOLA, {}!'.format(self.name.upper()))\n",
        "        else:\n",
        "          print('hola, {}!'.format(self.name))\n",
        "\n",
        "g = Saludo('Carlos')  # Construya una instancia de la clase Saludo\n",
        "\n",
        "g.greet()            # Llama a un método de la instancia; imprime \"Hola, Carlos\"\n",
        "g.greet(alto=True)   # Llama a un método de la instancia; imprime \"Hola, Carlos\""
      ]
    },
    {
      "cell_type": "markdown",
      "metadata": {
        "id": "8X3ZHlz77PYh"
      },
      "source": [
        "##Numpy"
      ]
    },
    {
      "cell_type": "markdown",
      "metadata": {
        "id": "wGvQA3Xl7Z5I"
      },
      "source": [
        "Numpy es la biblioteca central para la computación científica en Python. Proporciona un objeto de matriz multidimensional de alto rendimiento y herramientas para trabajar con estas matrices. Si ya está familiarizado con MATLAB, es posible que este [tutorial] (http://wiki.scipy.org/NumPy_for_Matlab_Users) le resulte útil para comenzar con Numpy."
      ]
    },
    {
      "cell_type": "markdown",
      "metadata": {
        "id": "H8j8WN9877BI"
      },
      "source": [
        "Para usar Numpy, primero necesitamos **importar** el paquete `numpy`:"
      ]
    },
    {
      "cell_type": "code",
      "execution_count": 42,
      "metadata": {
        "id": "PKrcym3B8I35",
        "vscode": {
          "languageId": "python"
        }
      },
      "outputs": [],
      "source": [
        "import numpy as np"
      ]
    },
    {
      "cell_type": "markdown",
      "metadata": {
        "id": "2iwKqP798JmW"
      },
      "source": [
        "### Matrices"
      ]
    },
    {
      "cell_type": "markdown",
      "metadata": {
        "id": "QpKIg4DR8O8n"
      },
      "source": [
        "Una matriz numpy es una cuadrícula de valores, todos del mismo tipo, y está indexada por una tupla de enteros no negativos. El número de dimensiones es el rango de la matriz; la forma de una matriz es una tupla de números enteros que dan el tamaño de la matriz a lo largo de cada dimensión.\n",
        "\n",
        "Podemos inicializar matrices numpy desde listas de Python anidadas y acceder a elementos usando corchetes:"
      ]
    },
    {
      "cell_type": "code",
      "execution_count": 43,
      "metadata": {
        "id": "McZmaqfn8fP8",
        "vscode": {
          "languageId": "python"
        },
        "outputId": "4385fcbd-2c0d-4a57-e156-3b632a594c71",
        "colab": {
          "base_uri": "https://localhost:8080/"
        }
      },
      "outputs": [
        {
          "output_type": "stream",
          "name": "stdout",
          "text": [
            "<class 'numpy.ndarray'> (3,) 1 2 3\n",
            "[5 2 3]\n"
          ]
        }
      ],
      "source": [
        "a = np.array([1, 2, 3])  # Crea una matriz de rango 1\n",
        "print(type(a), a.shape, a[0], a[1], a[2])\n",
        "a[0] = 5                 # Cambiar un elemento de la matriz\n",
        "print(a)"
      ]
    },
    {
      "cell_type": "code",
      "execution_count": 44,
      "metadata": {
        "id": "Ul8jYxUm8hSq",
        "vscode": {
          "languageId": "python"
        },
        "outputId": "8c5e9c27-3e25-466a-9786-bf33e60f2b5b",
        "colab": {
          "base_uri": "https://localhost:8080/"
        }
      },
      "outputs": [
        {
          "output_type": "stream",
          "name": "stdout",
          "text": [
            "[[1 2 3]\n",
            " [4 5 6]]\n"
          ]
        }
      ],
      "source": [
        "b = np.array([[1,2,3],[4,5,6]])   # Crear una matriz de rango 2\n",
        "print(b)"
      ]
    },
    {
      "cell_type": "code",
      "execution_count": 45,
      "metadata": {
        "id": "ouHeW-wh8moh",
        "vscode": {
          "languageId": "python"
        },
        "outputId": "2f146766-88dc-4eeb-80d0-ec470be0ed89",
        "colab": {
          "base_uri": "https://localhost:8080/"
        }
      },
      "outputs": [
        {
          "output_type": "stream",
          "name": "stdout",
          "text": [
            "(2, 3)\n",
            "1 2 4\n"
          ]
        }
      ],
      "source": [
        "print(b.shape)\n",
        "print(b[0, 0], b[0, 1], b[1, 0])"
      ]
    },
    {
      "cell_type": "markdown",
      "metadata": {
        "id": "QGMi-OQj8usH"
      },
      "source": [
        "Numpy también proporciona muchas funciones para crear matrices:"
      ]
    },
    {
      "cell_type": "code",
      "execution_count": 46,
      "metadata": {
        "id": "Ff7qgi1X8z2X",
        "vscode": {
          "languageId": "python"
        },
        "outputId": "acfd056c-79f2-4717-a008-cd294f62c054",
        "colab": {
          "base_uri": "https://localhost:8080/"
        }
      },
      "outputs": [
        {
          "output_type": "stream",
          "name": "stdout",
          "text": [
            "[[0. 0.]\n",
            " [0. 0.]]\n"
          ]
        }
      ],
      "source": [
        "a = np.zeros((2,2))  # Crea una matriz de ceros\n",
        "print(a)"
      ]
    },
    {
      "cell_type": "code",
      "execution_count": 47,
      "metadata": {
        "id": "twpHqwd387gH",
        "vscode": {
          "languageId": "python"
        },
        "outputId": "6c37cca0-6525-4a69-c14a-a62a560aa675",
        "colab": {
          "base_uri": "https://localhost:8080/"
        }
      },
      "outputs": [
        {
          "output_type": "stream",
          "name": "stdout",
          "text": [
            "[[1. 1.]]\n"
          ]
        }
      ],
      "source": [
        "b = np.ones((1,2))   # Crea una matriz de unos\n",
        "print(b)"
      ]
    },
    {
      "cell_type": "code",
      "execution_count": 48,
      "metadata": {
        "id": "3HgEy49K8953",
        "vscode": {
          "languageId": "python"
        },
        "outputId": "b119fde9-3285-4eaa-fbc6-2b59e9a0209f",
        "colab": {
          "base_uri": "https://localhost:8080/"
        }
      },
      "outputs": [
        {
          "output_type": "stream",
          "name": "stdout",
          "text": [
            "[[7 7]\n",
            " [7 7]]\n"
          ]
        }
      ],
      "source": [
        "c = np.full((2,2), 7) # Crea una matriz de una constante\n",
        "print(c)"
      ]
    },
    {
      "cell_type": "code",
      "execution_count": 49,
      "metadata": {
        "id": "I45m3pOa9IAb",
        "vscode": {
          "languageId": "python"
        },
        "outputId": "beeb9da1-e5e5-4c4f-96a5-1ccc3e220299",
        "colab": {
          "base_uri": "https://localhost:8080/"
        }
      },
      "outputs": [
        {
          "output_type": "stream",
          "name": "stdout",
          "text": [
            "[[1. 0.]\n",
            " [0. 1.]]\n"
          ]
        }
      ],
      "source": [
        "d = np.eye(2)        # Crea una matriz identica de  2x2\n",
        "print(d)"
      ]
    },
    {
      "cell_type": "code",
      "execution_count": 50,
      "metadata": {
        "id": "gk7fO7z09LYy",
        "vscode": {
          "languageId": "python"
        },
        "outputId": "4a43175f-036d-4c6e-c640-04456f36c467",
        "colab": {
          "base_uri": "https://localhost:8080/"
        }
      },
      "outputs": [
        {
          "output_type": "stream",
          "name": "stdout",
          "text": [
            "[[0.40834724 0.73727738]\n",
            " [0.35417838 0.33308614]]\n"
          ]
        }
      ],
      "source": [
        "e = np.random.random((2,2)) # Create una matriz de valores aleatorios\n",
        "print(e)"
      ]
    },
    {
      "cell_type": "markdown",
      "metadata": {
        "id": "-h001_o49TUI"
      },
      "source": [
        "### Indexación de matrices"
      ]
    },
    {
      "cell_type": "markdown",
      "metadata": {
        "id": "jJMpMt_t9aTc"
      },
      "source": [
        "Rebanar: similar a las listas de Python, las matrices numpy se pueden cortar. Dado que las matrices pueden ser multidimensionales, debe especificar un segmento para cada dimensión de la matriz:"
      ]
    },
    {
      "cell_type": "code",
      "execution_count": 51,
      "metadata": {
        "id": "rlw5zccO9bBY",
        "vscode": {
          "languageId": "python"
        },
        "outputId": "0ea2bf2b-d5c2-4727-a53a-0d7b6230a7a2",
        "colab": {
          "base_uri": "https://localhost:8080/"
        }
      },
      "outputs": [
        {
          "output_type": "stream",
          "name": "stdout",
          "text": [
            "[[2 3]\n",
            " [6 7]]\n"
          ]
        }
      ],
      "source": [
        "import numpy as np\n",
        "\n",
        "# Cree la siguiente matriz de rango 2 con forma (3, 4)\n",
        "# [[ 1  2  3  4]\n",
        "#  [ 5  6  7  8]\n",
        "#  [ 9 10 11 12]]\n",
        "a = np.array([[1,2,3,4], [5,6,7,8], [9,10,11,12]])\n",
        "\n",
        "# Utilice el corte para extraer el subarreglo que consta de las 2 primeras filas\n",
        "# y columnas 1 y 2; b es la siguiente matriz de forma (2, 2):\n",
        "# [[2 3]\n",
        "#  [6 7]]\n",
        "b = a[:2, 1:3]\n",
        "print(b)"
      ]
    },
    {
      "cell_type": "markdown",
      "metadata": {
        "id": "pe209ks89kpY"
      },
      "source": [
        "Una porción de una matriz es una vista de los mismos datos, por lo que modificarla modificará la matriz original."
      ]
    },
    {
      "cell_type": "code",
      "execution_count": 53,
      "metadata": {
        "id": "vtxNN7XB9nul",
        "vscode": {
          "languageId": "python"
        },
        "outputId": "0dcaa979-2569-47dd-c568-6658849ad6ed",
        "colab": {
          "base_uri": "https://localhost:8080/"
        }
      },
      "outputs": [
        {
          "output_type": "stream",
          "name": "stdout",
          "text": [
            "77\n",
            "77\n"
          ]
        }
      ],
      "source": [
        "print(a[0, 1])\n",
        "b[0, 0] = 77     # b[0, 0] es el mismo dato que a [0, 1]\n",
        "print(a[0, 1])"
      ]
    },
    {
      "cell_type": "markdown",
      "metadata": {
        "id": "R-L1YuwK9vxf"
      },
      "source": [
        "  También puede mezclar la indexación de enteros con la indexación de sectores. Sin embargo, al hacerlo, se obtendrá una matriz de rango más bajo que la matriz original. Tenga en cuenta que esto es bastante diferente de la forma en que MATLAB maneja la división de matrices:"
      ]
    },
    {
      "cell_type": "code",
      "execution_count": 54,
      "metadata": {
        "id": "J1E8-wd59w4C",
        "vscode": {
          "languageId": "python"
        },
        "outputId": "ee77cb1e-2e9d-4d2a-ef4c-3b41b06993ba",
        "colab": {
          "base_uri": "https://localhost:8080/"
        }
      },
      "outputs": [
        {
          "output_type": "stream",
          "name": "stdout",
          "text": [
            "[[ 1  2  3  4]\n",
            " [ 5  6  7  8]\n",
            " [ 9 10 11 12]]\n"
          ]
        }
      ],
      "source": [
        "# Cree la siguiente matriz de rango 2 con forma (3, 4)\n",
        "a = np.array([[1,2,3,4], [5,6,7,8], [9,10,11,12]])\n",
        "print(a)"
      ]
    },
    {
      "cell_type": "markdown",
      "metadata": {
        "id": "tM9_Ankm9-i-"
      },
      "source": [
        "Dos formas de acceder a los datos de la fila central de la matriz.\n",
        "Mezclar la indexación de enteros con sectores produce una matriz de rango más bajo, mientras que usar solo sectores produce una matriz del mismo rango que la matriz original:"
      ]
    },
    {
      "cell_type": "code",
      "execution_count": 55,
      "metadata": {
        "id": "gTvnX5dj9_2S",
        "vscode": {
          "languageId": "python"
        },
        "outputId": "8237a241-3f96-411f-c5a9-48bd4851c287",
        "colab": {
          "base_uri": "https://localhost:8080/"
        }
      },
      "outputs": [
        {
          "output_type": "stream",
          "name": "stdout",
          "text": [
            "[5 6 7 8] (4,)\n",
            "[[5 6 7 8]] (1, 4)\n",
            "[[5 6 7 8]] (1, 4)\n"
          ]
        }
      ],
      "source": [
        "row_r1 = a[1, :]    # Vista de rango 1 de la segunda fila de un\n",
        "row_r2 = a[1:2, :]  # Vista de rango 2 de la segunda fila de un\n",
        "row_r3 = a[[1], :]  # Vista de rango 2 de la segunda fila de un\n",
        "print(row_r1, row_r1.shape)\n",
        "print(row_r2, row_r2.shape)\n",
        "print(row_r3, row_r3.shape)"
      ]
    },
    {
      "cell_type": "code",
      "execution_count": 56,
      "metadata": {
        "id": "KvCja0-o-Oqu",
        "vscode": {
          "languageId": "python"
        },
        "outputId": "d6a867aa-bd6f-4961-a547-b009742101b0",
        "colab": {
          "base_uri": "https://localhost:8080/"
        }
      },
      "outputs": [
        {
          "output_type": "stream",
          "name": "stdout",
          "text": [
            "[ 2  6 10] (3,)\n",
            "\n",
            "[[ 2]\n",
            " [ 6]\n",
            " [10]] (3, 1)\n"
          ]
        }
      ],
      "source": [
        "# Podemos hacer la misma distinción al acceder a las columnas de una matriz:\n",
        "col_r1 = a[:, 1]\n",
        "col_r2 = a[:, 1:2]\n",
        "print(col_r1, col_r1.shape)\n",
        "print()\n",
        "print(col_r2, col_r2.shape)"
      ]
    },
    {
      "cell_type": "markdown",
      "metadata": {
        "id": "o9v2E_HK-SQX"
      },
      "source": [
        "Indexación de matrices de enteros: cuando indexa matrices de números utilizando la división, la vista de matriz resultante siempre será una submatriz de la matriz original. Por el contrario, la indexación de matrices de enteros le permite construir matrices arbitrarias utilizando los datos de otra matriz. Aquí hay un ejemplo:"
      ]
    },
    {
      "cell_type": "code",
      "execution_count": 57,
      "metadata": {
        "id": "r-lKM48G-W-F",
        "vscode": {
          "languageId": "python"
        },
        "outputId": "dd333a30-be24-4e13-ee7f-8d23779ef085",
        "colab": {
          "base_uri": "https://localhost:8080/"
        }
      },
      "outputs": [
        {
          "output_type": "stream",
          "name": "stdout",
          "text": [
            "[1 4 5]\n",
            "[1 4 5]\n"
          ]
        }
      ],
      "source": [
        "a = np.array([[1,2], [3, 4], [5, 6]])\n",
        "\n",
        "# Un ejemplo de indexación de matrices de enteros.\n",
        "# La matriz devuelta tendrá forma (3,) y\n",
        "print(a[[0, 1, 2], [0, 1, 0]])\n",
        "\n",
        "# El ejemplo anterior de indexación de matrices enteras es equivalente a esto:\n",
        "print(np.array([a[0, 0], a[1, 1], a[2, 0]]))"
      ]
    },
    {
      "cell_type": "code",
      "execution_count": 58,
      "metadata": {
        "id": "RKvVTs5L-aEZ",
        "vscode": {
          "languageId": "python"
        },
        "outputId": "5dd8dd43-162a-4863-afb3-67f3fb5113d8",
        "colab": {
          "base_uri": "https://localhost:8080/"
        }
      },
      "outputs": [
        {
          "output_type": "stream",
          "name": "stdout",
          "text": [
            "[2 2]\n",
            "[2 2]\n"
          ]
        }
      ],
      "source": [
        "# Al usar la indexación de matrices de enteros, puede reutilizar la misma\n",
        "# elemento de la matriz fuente:\n",
        "print(a[[0, 0], [1, 1]])\n",
        "\n",
        "# Equivalente al ejemplo anterior de indexación de matrices de enteros\n",
        "print(np.array([a[0, 1], a[0, 1]]))"
      ]
    },
    {
      "cell_type": "markdown",
      "metadata": {
        "id": "RxRD1s_S-fDu"
      },
      "source": [
        "Un truco útil con la indexación de matrices enteras es seleccionar o mutar un elemento de cada fila de una matriz:"
      ]
    },
    {
      "cell_type": "code",
      "execution_count": 59,
      "metadata": {
        "id": "YZ1lHAeV-gKh",
        "vscode": {
          "languageId": "python"
        },
        "outputId": "1c2a5e09-d0ae-4915-f6e7-33778b9edc20",
        "colab": {
          "base_uri": "https://localhost:8080/"
        }
      },
      "outputs": [
        {
          "output_type": "stream",
          "name": "stdout",
          "text": [
            "[[ 1  2  3]\n",
            " [ 4  5  6]\n",
            " [ 7  8  9]\n",
            " [10 11 12]]\n"
          ]
        }
      ],
      "source": [
        "# Crear una nueva matriz de la que seleccionaremos elementos\n",
        "a = np.array([[1,2,3], [4,5,6], [7,8,9], [10, 11, 12]])\n",
        "print(a)"
      ]
    },
    {
      "cell_type": "code",
      "execution_count": 60,
      "metadata": {
        "id": "n0yU0XnZ-8xQ",
        "vscode": {
          "languageId": "python"
        },
        "outputId": "10a96823-7f29-4eb8-a886-eb9c6beb94b3",
        "colab": {
          "base_uri": "https://localhost:8080/"
        }
      },
      "outputs": [
        {
          "output_type": "stream",
          "name": "stdout",
          "text": [
            "[ 1  6  7 11]\n"
          ]
        }
      ],
      "source": [
        "# Crea una matriz de índices\n",
        "b = np.array([0, 2, 0, 1])\n",
        "\n",
        "# Seleccione un elemento de cada fila de a usando los índices en b\n",
        "print(a[np.arange(4), b])  # Prints \"[ 1  6  7 11]\""
      ]
    },
    {
      "cell_type": "code",
      "execution_count": 61,
      "metadata": {
        "id": "v_hlY8M3-j3Y",
        "vscode": {
          "languageId": "python"
        },
        "outputId": "f7a85874-5947-4062-89d3-e582b366f499",
        "colab": {
          "base_uri": "https://localhost:8080/"
        }
      },
      "outputs": [
        {
          "output_type": "stream",
          "name": "stdout",
          "text": [
            "[[11  2  3]\n",
            " [ 4  5 16]\n",
            " [17  8  9]\n",
            " [10 21 12]]\n"
          ]
        }
      ],
      "source": [
        "# Mute un elemento de cada fila de a usando los índices en b\n",
        "a[np.arange(4), b] += 10\n",
        "print(a)"
      ]
    },
    {
      "cell_type": "markdown",
      "metadata": {
        "id": "HwgMZ4E6-pBv"
      },
      "source": [
        "Indexación de matriz booleana: la indexación de matriz booleana le permite seleccionar elementos arbitrarios de una matriz. Con frecuencia, este tipo de indexación se utiliza para seleccionar los elementos de una matriz que satisfacen alguna condición. Aquí hay un ejemplo:"
      ]
    },
    {
      "cell_type": "code",
      "execution_count": 62,
      "metadata": {
        "id": "zQ7_9kDa-r_s",
        "vscode": {
          "languageId": "python"
        },
        "outputId": "b5430306-d611-49dd-9130-6d809f60ffff",
        "colab": {
          "base_uri": "https://localhost:8080/"
        }
      },
      "outputs": [
        {
          "output_type": "stream",
          "name": "stdout",
          "text": [
            "[[False False]\n",
            " [ True  True]\n",
            " [ True  True]]\n"
          ]
        }
      ],
      "source": [
        "import numpy as np\n",
        "\n",
        "a = np.array([[1,2], [3, 4], [5, 6]])\n",
        "\n",
        "bool_idx = (a > 2)  # Encuentra los elementos de a que sean mayores que 2;\n",
        "                    # esto devuelve una gran variedad de valores booleanos del mismo\n",
        "                    # forma como a, donde cada ranura de bool_idx dice\n",
        "                    # si ese elemento de a es> 2.\n",
        "\n",
        "print(bool_idx)"
      ]
    },
    {
      "cell_type": "code",
      "execution_count": 63,
      "metadata": {
        "id": "QejnnU-k_DVy",
        "vscode": {
          "languageId": "python"
        },
        "outputId": "0a05bd36-6662-497c-deec-70635eb9fd8b",
        "colab": {
          "base_uri": "https://localhost:8080/"
        }
      },
      "outputs": [
        {
          "output_type": "stream",
          "name": "stdout",
          "text": [
            "[3 4 5 6]\n",
            "[3 4 5 6]\n"
          ]
        }
      ],
      "source": [
        "# Usamos la indexación de matrices booleanas para construir una matriz de rango 1\n",
        "# que consta de los elementos de a correspondiente a los valores verdaderos\n",
        "# de bool_idx\n",
        "print(a[bool_idx])\n",
        "\n",
        "# Podemos hacer todo lo anterior en una sola declaración concisa:\n",
        "print(a[a > 2])"
      ]
    },
    {
      "cell_type": "markdown",
      "metadata": {
        "id": "nkv3CI_g_I3t"
      },
      "source": [
        "Por brevedad, hemos omitido muchos detalles sobre la indexación de matrices numpy; si quieres saber más debes leer la documentación."
      ]
    },
    {
      "cell_type": "markdown",
      "metadata": {
        "id": "lwBUaZDn_RU_"
      },
      "source": [
        "###Tipos de datos"
      ]
    },
    {
      "cell_type": "markdown",
      "metadata": {
        "id": "czZ9tfVY_WC7"
      },
      "source": [
        "Cada matriz numpy es una cuadrícula de elementos del mismo tipo. Numpy proporciona un gran conjunto de tipos de datos numéricos que puede utilizar para construir matrices. Numpy intenta adivinar un tipo de datos cuando crea una matriz, pero las funciones que construyen matrices generalmente también incluyen un argumento opcional para especificar explícitamente el tipo de datos. Aquí hay un ejemplo:"
      ]
    },
    {
      "cell_type": "markdown",
      "metadata": {
        "id": "rVRxTdIr_gZw"
      },
      "source": [
        "### Matemáticas de matriz"
      ]
    },
    {
      "cell_type": "markdown",
      "metadata": {
        "id": "xHwno7FF_iG2"
      },
      "source": [
        "Las funciones matemáticas básicas operan por elementos en matrices y están disponibles como sobrecargas de operador y como funciones en el módulo numpy:"
      ]
    },
    {
      "cell_type": "code",
      "execution_count": 64,
      "metadata": {
        "id": "e8ra6AXZ_mEn",
        "vscode": {
          "languageId": "python"
        },
        "outputId": "95830039-b5f3-40ed-947a-a57faa5701ce",
        "colab": {
          "base_uri": "https://localhost:8080/"
        }
      },
      "outputs": [
        {
          "output_type": "stream",
          "name": "stdout",
          "text": [
            "[[ 6.  8.]\n",
            " [10. 12.]]\n",
            "[[ 6.  8.]\n",
            " [10. 12.]]\n"
          ]
        }
      ],
      "source": [
        "x = np.array([[1,2],[3,4]], dtype=np.float64)\n",
        "y = np.array([[5,6],[7,8]], dtype=np.float64)\n",
        "\n",
        "# Suma de elementos; ambos producen la matriz\n",
        "print(x + y)\n",
        "print(np.add(x, y))"
      ]
    },
    {
      "cell_type": "code",
      "execution_count": 65,
      "metadata": {
        "id": "1H--1Tw1_pE4",
        "vscode": {
          "languageId": "python"
        },
        "outputId": "b906303f-d435-4986-91e8-d967f83e41ab",
        "colab": {
          "base_uri": "https://localhost:8080/"
        }
      },
      "outputs": [
        {
          "output_type": "stream",
          "name": "stdout",
          "text": [
            "[[-4. -4.]\n",
            " [-4. -4.]]\n",
            "[[-4. -4.]\n",
            " [-4. -4.]]\n"
          ]
        }
      ],
      "source": [
        "# Diferencia de elementos; ambos producen la matriz\n",
        "print(x - y)\n",
        "print(np.subtract(x, y))"
      ]
    },
    {
      "cell_type": "code",
      "execution_count": 66,
      "metadata": {
        "id": "P6iuaIEF_tea",
        "vscode": {
          "languageId": "python"
        },
        "outputId": "047f7f93-9364-45c8-a39f-7e315f9ecb5c",
        "colab": {
          "base_uri": "https://localhost:8080/"
        }
      },
      "outputs": [
        {
          "output_type": "stream",
          "name": "stdout",
          "text": [
            "[[ 5. 12.]\n",
            " [21. 32.]]\n",
            "[[ 5. 12.]\n",
            " [21. 32.]]\n"
          ]
        }
      ],
      "source": [
        "# Producto Elementwise; ambos producen la matriz\n",
        "print(x * y)\n",
        "print(np.multiply(x, y))"
      ]
    },
    {
      "cell_type": "code",
      "execution_count": 67,
      "metadata": {
        "id": "NURwRUa__vYh",
        "vscode": {
          "languageId": "python"
        },
        "outputId": "46244a1b-403b-48f9-e304-da3064955ef4",
        "colab": {
          "base_uri": "https://localhost:8080/"
        }
      },
      "outputs": [
        {
          "output_type": "stream",
          "name": "stdout",
          "text": [
            "[[0.2        0.33333333]\n",
            " [0.42857143 0.5       ]]\n",
            "[[0.2        0.33333333]\n",
            " [0.42857143 0.5       ]]\n"
          ]
        }
      ],
      "source": [
        "# División por elementos; ambos producen la matriz\n",
        "# [[ 0.2         0.33333333]\n",
        "#  [ 0.42857143  0.5       ]]\n",
        "print(x / y)\n",
        "print(np.divide(x, y))"
      ]
    },
    {
      "cell_type": "code",
      "execution_count": 68,
      "metadata": {
        "id": "0pGDKxpB_0p9",
        "vscode": {
          "languageId": "python"
        },
        "outputId": "2b9a805f-f9c1-4fab-e43f-1e9351d2c3df",
        "colab": {
          "base_uri": "https://localhost:8080/"
        }
      },
      "outputs": [
        {
          "output_type": "stream",
          "name": "stdout",
          "text": [
            "[[1.         1.41421356]\n",
            " [1.73205081 2.        ]]\n"
          ]
        }
      ],
      "source": [
        "# Raíz cuadrada de elementos; produce la matriz\n",
        "# [[ 1.          1.41421356]\n",
        "#  [ 1.73205081  2.        ]]\n",
        "print(np.sqrt(x))"
      ]
    },
    {
      "cell_type": "markdown",
      "metadata": {
        "id": "hYyzJ8eD_8PI"
      },
      "source": [
        "Tenga en cuenta que, a diferencia de MATLAB, `*` es una multiplicación por elementos, no una multiplicación de matrices. En cambio, usamos la función de punto para calcular los productos internos de los vectores, para multiplicar un vector por una matriz y para multiplicar matrices. dot está disponible como una función en el módulo numpy y como un método de instancia de objetos de matriz:"
      ]
    },
    {
      "cell_type": "code",
      "execution_count": 69,
      "metadata": {
        "id": "J4gARkbc_9nr",
        "vscode": {
          "languageId": "python"
        },
        "outputId": "cbc3558f-e7b9-41df-90fb-cc267b3e3d02",
        "colab": {
          "base_uri": "https://localhost:8080/"
        }
      },
      "outputs": [
        {
          "output_type": "stream",
          "name": "stdout",
          "text": [
            "219\n",
            "219\n"
          ]
        }
      ],
      "source": [
        "x = np.array([[1,2],[3,4]])\n",
        "y = np.array([[5,6],[7,8]])\n",
        "\n",
        "v = np.array([9,10])\n",
        "w = np.array([11, 12])\n",
        "\n",
        "# Producto interno de vectores; ambos producen 219\n",
        "print(v.dot(w))\n",
        "print(np.dot(v, w))"
      ]
    },
    {
      "cell_type": "markdown",
      "metadata": {
        "id": "VFByfKj4AEy3"
      },
      "source": [
        "También puede usar el operador `@` que es equivalente al operador `dot` de numpy."
      ]
    },
    {
      "cell_type": "code",
      "execution_count": 70,
      "metadata": {
        "id": "qhcbF0PwAFwv",
        "vscode": {
          "languageId": "python"
        },
        "outputId": "db461bd2-9e0a-4353-83ec-d06846426740",
        "colab": {
          "base_uri": "https://localhost:8080/"
        }
      },
      "outputs": [
        {
          "output_type": "stream",
          "name": "stdout",
          "text": [
            "219\n"
          ]
        }
      ],
      "source": [
        "print(v @ w)"
      ]
    },
    {
      "cell_type": "code",
      "execution_count": 71,
      "metadata": {
        "id": "y8roAlFSAL8e",
        "vscode": {
          "languageId": "python"
        },
        "outputId": "60f126e0-1de3-4f9a-eaa7-55981d9098e6",
        "colab": {
          "base_uri": "https://localhost:8080/"
        }
      },
      "outputs": [
        {
          "output_type": "stream",
          "name": "stdout",
          "text": [
            "[29 67]\n",
            "[29 67]\n",
            "[29 67]\n"
          ]
        }
      ],
      "source": [
        "# Producto de matriz / vector; ambos producen la matriz de rango 1 [29 67]print(x.dot(v))\n",
        "print(x.dot(v))\n",
        "print(np.dot(x, v))\n",
        "print(x @ v)"
      ]
    },
    {
      "cell_type": "code",
      "execution_count": 72,
      "metadata": {
        "id": "ZLqZDKXlAOmc",
        "vscode": {
          "languageId": "python"
        },
        "outputId": "c31d883a-63a9-4713-899f-3f3d9f961938",
        "colab": {
          "base_uri": "https://localhost:8080/"
        }
      },
      "outputs": [
        {
          "output_type": "stream",
          "name": "stdout",
          "text": [
            "[[19 22]\n",
            " [43 50]]\n",
            "[[19 22]\n",
            " [43 50]]\n",
            "[[19 22]\n",
            " [43 50]]\n"
          ]
        }
      ],
      "source": [
        "# Matriz / producto matricial; ambos producen la matriz de rango 2# [[19 22]\n",
        "# [[19 22]\n",
        "#  [43 50]]\n",
        "print(x.dot(y))\n",
        "print(np.dot(x, y))\n",
        "print(x @ y)"
      ]
    },
    {
      "cell_type": "markdown",
      "metadata": {
        "id": "FFKu37qLAVuQ"
      },
      "source": [
        "Numpy proporciona muchas funciones útiles para realizar cálculos en matrices; uno de los más útiles es `sum`:"
      ]
    },
    {
      "cell_type": "code",
      "execution_count": 73,
      "metadata": {
        "id": "aUwVZMzYAZyK",
        "vscode": {
          "languageId": "python"
        },
        "outputId": "3924d121-136d-465b-ef19-097a844b7c82",
        "colab": {
          "base_uri": "https://localhost:8080/"
        }
      },
      "outputs": [
        {
          "output_type": "stream",
          "name": "stdout",
          "text": [
            "10\n",
            "[4 6]\n",
            "[3 7]\n"
          ]
        }
      ],
      "source": [
        "x = np.array([[1,2],[3,4]])\n",
        "\n",
        "print(np.sum(x))  # Calcular la suma de todos los elementos; imprime \"10\"\n",
        "print(np.sum(x, axis=0))  # Calcule la suma de cada columna; imprime \"[4 6]\"\n",
        "print(np.sum(x, axis=1))  # Calcule la suma de cada fila; imprime \"[3 7]\""
      ]
    },
    {
      "cell_type": "markdown",
      "metadata": {
        "id": "RxiFqMeJAibg"
      },
      "source": [
        "Además de calcular funciones matemáticas utilizando matrices, con frecuencia necesitamos remodelar o manipular datos en matrices. El ejemplo más simple de este tipo de operación es la transposición de una matriz; para transponer una matriz, simplemente use el atributo T de un objeto de matriz:"
      ]
    },
    {
      "cell_type": "code",
      "execution_count": 74,
      "metadata": {
        "id": "z1q7nBwQAmC6",
        "vscode": {
          "languageId": "python"
        },
        "outputId": "ee96100e-f160-44a0-f6aa-995553c99fcc",
        "colab": {
          "base_uri": "https://localhost:8080/"
        }
      },
      "outputs": [
        {
          "output_type": "stream",
          "name": "stdout",
          "text": [
            "[[1 2]\n",
            " [3 4]]\n",
            "transpose\n",
            " [[1 3]\n",
            " [2 4]]\n"
          ]
        }
      ],
      "source": [
        "print(x)\n",
        "print(\"transpose\\n\", x.T)"
      ]
    },
    {
      "cell_type": "code",
      "execution_count": 75,
      "metadata": {
        "id": "L30sXgSEAnsK",
        "vscode": {
          "languageId": "python"
        },
        "outputId": "57cb4b11-e62d-4de2-b147-53dc4a9d5acd",
        "colab": {
          "base_uri": "https://localhost:8080/"
        }
      },
      "outputs": [
        {
          "output_type": "stream",
          "name": "stdout",
          "text": [
            "[[1 2 3]]\n",
            "transpose\n",
            " [[1]\n",
            " [2]\n",
            " [3]]\n"
          ]
        }
      ],
      "source": [
        "v = np.array([[1,2,3]])\n",
        "print(v )\n",
        "print(\"transpose\\n\", v.T)"
      ]
    },
    {
      "cell_type": "markdown",
      "metadata": {
        "id": "iXTGY5b7oTPq"
      },
      "source": [
        "##Linear Algebra Review"
      ]
    },
    {
      "cell_type": "code",
      "execution_count": 76,
      "metadata": {
        "id": "dIqSOq4UosbM",
        "vscode": {
          "languageId": "python"
        }
      },
      "outputs": [],
      "source": [
        "import numpy as np\n",
        "import sympy as sp\n",
        "import matplotlib.pyplot as plt"
      ]
    },
    {
      "cell_type": "markdown",
      "metadata": {
        "id": "p9k-LPG9otmE"
      },
      "source": [
        "### Vector Space"
      ]
    },
    {
      "cell_type": "code",
      "execution_count": 77,
      "metadata": {
        "colab": {
          "base_uri": "https://localhost:8080/"
        },
        "id": "x_tScA1uozqD",
        "outputId": "1720cdf8-053b-409e-a462-8c534c40ac4a",
        "vscode": {
          "languageId": "python"
        }
      },
      "outputs": [
        {
          "output_type": "execute_result",
          "data": {
            "text/plain": [
              "numpy.ndarray"
            ]
          },
          "metadata": {},
          "execution_count": 77
        }
      ],
      "source": [
        " data = np.array([[1, 2], [3, 4], [5, 6]])\n",
        " type(data)"
      ]
    },
    {
      "cell_type": "code",
      "execution_count": 78,
      "metadata": {
        "colab": {
          "base_uri": "https://localhost:8080/"
        },
        "id": "eMP6z0DRo5Ga",
        "outputId": "6020686d-b6fb-49d8-eb43-9fc4c64e040c",
        "vscode": {
          "languageId": "python"
        }
      },
      "outputs": [
        {
          "output_type": "stream",
          "name": "stdout",
          "text": [
            "[[1 2]\n",
            " [3 4]\n",
            " [5 6]]\n",
            "[[1 3 5]\n",
            " [2 4 6]]\n",
            "[[1 3 5]\n",
            " [2 4 6]]\n"
          ]
        }
      ],
      "source": [
        "print(data)\n",
        "T1=np.transpose(data)\n",
        "T2=data.T\n",
        "print(T1)\n",
        "print(T2)"
      ]
    },
    {
      "cell_type": "code",
      "execution_count": 79,
      "metadata": {
        "colab": {
          "base_uri": "https://localhost:8080/"
        },
        "id": "IYREMia0o6nC",
        "outputId": "60fc24fb-5d7b-47d5-e0b1-821ca2aa6e21",
        "vscode": {
          "languageId": "python"
        }
      },
      "outputs": [
        {
          "output_type": "stream",
          "name": "stdout",
          "text": [
            "2\n",
            "(3, 2)\n",
            "6\n",
            "int64\n",
            "48\n"
          ]
        }
      ],
      "source": [
        "print(data.ndim)\n",
        "print(data.shape)\n",
        "print(data.size)\n",
        "print(data.dtype)\n",
        "print(data.nbytes)"
      ]
    },
    {
      "cell_type": "code",
      "execution_count": 80,
      "metadata": {
        "colab": {
          "base_uri": "https://localhost:8080/"
        },
        "id": "iT3SbxcZo_Vj",
        "outputId": "616b3cf3-ceb5-41e7-aa4b-e1c3aa55a5d9",
        "vscode": {
          "languageId": "python"
        }
      },
      "outputs": [
        {
          "output_type": "execute_result",
          "data": {
            "text/plain": [
              "array([[2],\n",
              "       [9],\n",
              "       [6]])"
            ]
          },
          "metadata": {},
          "execution_count": 80
        }
      ],
      "source": [
        "a1 =np.array([[1],[2],[0]])\n",
        "a2 =np.array([[0],[5],[6]])\n",
        "a3 = 2*a1 + a2\n",
        "a3"
      ]
    },
    {
      "cell_type": "markdown",
      "metadata": {
        "id": "bF6ABJbGpBxi"
      },
      "source": [
        "###Matrix"
      ]
    },
    {
      "cell_type": "code",
      "execution_count": 81,
      "metadata": {
        "colab": {
          "base_uri": "https://localhost:8080/"
        },
        "id": "rLwxjuNlpEQc",
        "outputId": "06e32c75-4e1c-47a4-fccd-177ccde922ec",
        "vscode": {
          "languageId": "python"
        }
      },
      "outputs": [
        {
          "output_type": "execute_result",
          "data": {
            "text/plain": [
              "[Matrix([\n",
              " [1/4],\n",
              " [1/2],\n",
              " [  1]])]"
            ]
          },
          "metadata": {},
          "execution_count": 81
        }
      ],
      "source": [
        "A = sp.Matrix([[4,-2,0], [2, 1, -1], [2, -3, 1]])\n",
        "Anull=A.nullspace()\n",
        "Anull"
      ]
    },
    {
      "cell_type": "markdown",
      "metadata": {
        "id": "beWlyWvspTqE"
      },
      "source": [
        "###Rank"
      ]
    },
    {
      "cell_type": "code",
      "execution_count": 82,
      "metadata": {
        "colab": {
          "base_uri": "https://localhost:8080/"
        },
        "id": "rRyHZksUpSLc",
        "outputId": "fbceb237-9f68-401e-f4c1-57450bc5c9ca",
        "vscode": {
          "languageId": "python"
        }
      },
      "outputs": [
        {
          "output_type": "execute_result",
          "data": {
            "text/plain": [
              "2"
            ]
          },
          "metadata": {},
          "execution_count": 82
        }
      ],
      "source": [
        "A = sp.Matrix([[3, 0, 2, 2], [-6, 42, 24, 54], [21, -21, 0, -15]])\n",
        "A.rank()"
      ]
    },
    {
      "cell_type": "markdown",
      "metadata": {
        "id": "4DOUzvDvpZDU"
      },
      "source": [
        "###Determinant"
      ]
    },
    {
      "cell_type": "code",
      "execution_count": 83,
      "metadata": {
        "colab": {
          "base_uri": "https://localhost:8080/",
          "height": 37
        },
        "id": "z5pTvPvRpa7D",
        "outputId": "dbea74c1-f1d0-4470-ca31-87e6c65712a6",
        "vscode": {
          "languageId": "python"
        }
      },
      "outputs": [
        {
          "output_type": "execute_result",
          "data": {
            "text/plain": [
              "-10"
            ],
            "text/latex": "$\\displaystyle -10$"
          },
          "metadata": {},
          "execution_count": 83
        }
      ],
      "source": [
        "A = sp.Matrix([[5, 4, 3] , [0, -1, 7], [0, 0, 2]])\n",
        "A.det()\n"
      ]
    },
    {
      "cell_type": "code",
      "execution_count": 84,
      "metadata": {
        "colab": {
          "base_uri": "https://localhost:8080/"
        },
        "id": "cy0UPnmbpbqj",
        "outputId": "1d5c6ad3-e209-4633-8b9c-ab81c08f967e",
        "vscode": {
          "languageId": "python"
        }
      },
      "outputs": [
        {
          "output_type": "stream",
          "name": "stdout",
          "text": [
            "Matrix : Matrix([[1, 0, 1, 3], [2, 3, 4, 7], [-1, -3, -3, -4]]) \n",
            "Nullspace of a matrix : [Matrix([\n",
            "[  -1],\n",
            "[-2/3],\n",
            "[   1],\n",
            "[   0]]), Matrix([\n",
            "[  -3],\n",
            "[-1/3],\n",
            "[   0],\n",
            "[   1]])]\n"
          ]
        }
      ],
      "source": [
        "M = sp.Matrix([[1, 0, 1, 3], [2, 3, 4, 7], [-1, -3, -3, -4]])\n",
        "print(\"Matrix : {} \".format(M))\n",
        "\n",
        "# Use sympy.nullspace() method\n",
        "M_nullspace = M.nullspace()\n",
        "\n",
        "print(\"Nullspace of a matrix : {}\".format(M_nullspace))"
      ]
    },
    {
      "cell_type": "markdown",
      "metadata": {
        "id": "XLWhcLqWphvT"
      },
      "source": [
        "###Linear Equations"
      ]
    },
    {
      "cell_type": "markdown",
      "metadata": {
        "id": "_f6XenBypnoS"
      },
      "source": [
        "Least squares is a standard approach to problems with more equations than unknowns, also known as overdetermined systems.\n",
        "\n",
        "Consider the four equations:\n",
        "$$\n",
        "x1 -  x2 + x3 = 0\\\\\n",
        "-x1 + x2 - x3 = 0\\\\\n",
        "10x2 + 25x3 = 90\\\\\n",
        "20x1 + 10x2 = 80\\\\\n",
        "$$\n",
        "We can express this as a matrix multiplication $A * x = b:$"
      ]
    },
    {
      "cell_type": "code",
      "execution_count": 85,
      "metadata": {
        "id": "tHqSaqkQppF8",
        "vscode": {
          "languageId": "python"
        }
      },
      "outputs": [],
      "source": [
        "A = np.array([[1, -1, 1],\n",
        "               [-1, 1, -1],\n",
        "               [0, 10, 25],\n",
        "               [20, 10, 0]])\n",
        "b = np.array([[0],\n",
        "               [0],\n",
        "               [90],\n",
        "               [80]],)"
      ]
    },
    {
      "cell_type": "markdown",
      "metadata": {
        "id": "B1UJWu_tpyLE"
      },
      "source": [
        "Then solve with :np.linalg.lstsq"
      ]
    },
    {
      "cell_type": "code",
      "execution_count": 86,
      "metadata": {
        "colab": {
          "base_uri": "https://localhost:8080/"
        },
        "id": "ie552Y4YpvUy",
        "outputId": "e77253e0-487a-47c7-e522-07f94d0c015b",
        "vscode": {
          "languageId": "python"
        }
      },
      "outputs": [
        {
          "output_type": "stream",
          "name": "stderr",
          "text": [
            "<ipython-input-86-bcc6a091800e>:1: FutureWarning: `rcond` parameter will change to the default of machine precision times ``max(M, N)`` where M and N are the input matrix dimensions.\n",
            "To use the future default and silence this warning we advise to pass `rcond=None`, to keep using the old, explicitly pass `rcond=-1`.\n",
            "  x, residuals, rank, s = np.linalg.lstsq(A,b)\n"
          ]
        }
      ],
      "source": [
        "x, residuals, rank, s = np.linalg.lstsq(A,b)"
      ]
    },
    {
      "cell_type": "markdown",
      "metadata": {
        "id": "HVORr0jhp2_C"
      },
      "source": [
        "x is the solution, residuals the sum, rank the matrix rank of input A, and s the singular values of A. If b has more than one dimension, lstsq will solve the system corresponding to each column of b:"
      ]
    },
    {
      "cell_type": "code",
      "execution_count": 87,
      "metadata": {
        "colab": {
          "base_uri": "https://localhost:8080/"
        },
        "id": "TJeiJKCOp7tC",
        "outputId": "62e9ccbb-7e0f-4de0-bc37-c54c08ea104c",
        "vscode": {
          "languageId": "python"
        }
      },
      "outputs": [
        {
          "output_type": "stream",
          "name": "stdout",
          "text": [
            "[[2.]\n",
            " [4.]\n",
            " [2.]]\n"
          ]
        }
      ],
      "source": [
        "print(x)"
      ]
    },
    {
      "cell_type": "markdown",
      "metadata": {
        "id": "9fuJJ892qAkE"
      },
      "source": [
        "Ejemplo 2:"
      ]
    },
    {
      "cell_type": "code",
      "execution_count": 88,
      "metadata": {
        "id": "zYixNGf-qERF",
        "vscode": {
          "languageId": "python"
        },
        "outputId": "c55c9b64-5b11-468d-bfa4-182645cce04b",
        "colab": {
          "base_uri": "https://localhost:8080/"
        }
      },
      "outputs": [
        {
          "output_type": "stream",
          "name": "stdout",
          "text": [
            "[ 5.  3. -2.]\n"
          ]
        }
      ],
      "source": [
        "A = np.array([[4, 3, 2],\n",
        "              [-2, 2, 3],\n",
        "              [3, -5, 2]])\n",
        "B = np.array([25, -10, -4])\n",
        "X2 = np.linalg.solve(A,B)\n",
        "\n",
        "print(X2)"
      ]
    },
    {
      "cell_type": "markdown",
      "metadata": {
        "id": "BQUs0UzOVkFm"
      },
      "source": []
    },
    {
      "cell_type": "markdown",
      "metadata": {
        "id": "d6BiKaI1qH_r"
      },
      "source": [
        "###Inverse"
      ]
    },
    {
      "cell_type": "code",
      "execution_count": 89,
      "metadata": {
        "colab": {
          "base_uri": "https://localhost:8080/"
        },
        "id": "cRYqT77YqLGF",
        "outputId": "ab7c580a-1834-4ca4-a4cc-a4c124bb525b",
        "vscode": {
          "languageId": "python"
        }
      },
      "outputs": [
        {
          "output_type": "execute_result",
          "data": {
            "text/plain": [
              "matrix([[ 0.2,  0.8, -3.1],\n",
              "        [-0. , -1. ,  3.5],\n",
              "        [ 0. ,  0. ,  0.5]])"
            ]
          },
          "metadata": {},
          "execution_count": 89
        }
      ],
      "source": [
        "A = np.matrix([[5,4,3],[0,-1,7],[0,0,2]])\n",
        "A.I"
      ]
    },
    {
      "cell_type": "code",
      "execution_count": 90,
      "metadata": {
        "colab": {
          "base_uri": "https://localhost:8080/"
        },
        "id": "goJIdHHDqO4C",
        "outputId": "7a736c90-e5be-4ae2-c12f-2ae92fa55eb1",
        "vscode": {
          "languageId": "python"
        }
      },
      "outputs": [
        {
          "output_type": "execute_result",
          "data": {
            "text/plain": [
              "array([[ 0.2,  0.8, -3.1],\n",
              "       [-0. , -1. ,  3.5],\n",
              "       [ 0. ,  0. ,  0.5]])"
            ]
          },
          "metadata": {},
          "execution_count": 90
        }
      ],
      "source": [
        "A = np.array([[5,4,3],[0,-1,7],[0,0,2]])\n",
        "np.linalg.inv(A)"
      ]
    },
    {
      "cell_type": "code",
      "execution_count": 92,
      "metadata": {
        "colab": {
          "base_uri": "https://localhost:8080/",
          "height": 176
        },
        "id": "HJ0LOg6T4wF4",
        "outputId": "c2e150f9-4f0a-4eda-f8e5-bfb60aa234c8",
        "vscode": {
          "languageId": "python"
        }
      },
      "outputs": [
        {
          "output_type": "error",
          "ename": "AttributeError",
          "evalue": "'numpy.ndarray' object has no attribute 'I'",
          "traceback": [
            "\u001b[0;31m---------------------------------------------------------------------------\u001b[0m",
            "\u001b[0;31mAttributeError\u001b[0m                            Traceback (most recent call last)",
            "\u001b[0;32m<ipython-input-92-b9661dbfe73a>\u001b[0m in \u001b[0;36m<cell line: 1>\u001b[0;34m()\u001b[0m\n\u001b[0;32m----> 1\u001b[0;31m \u001b[0mA\u001b[0m\u001b[0;34m*\u001b[0m\u001b[0mA\u001b[0m\u001b[0;34m.\u001b[0m\u001b[0mI\u001b[0m\u001b[0;34m\u001b[0m\u001b[0;34m\u001b[0m\u001b[0m\n\u001b[0m",
            "\u001b[0;31mAttributeError\u001b[0m: 'numpy.ndarray' object has no attribute 'I'"
          ]
        }
      ],
      "source": [
        "A*A.I"
      ]
    },
    {
      "cell_type": "markdown",
      "metadata": {
        "id": "tyuZpDsBqSpD"
      },
      "source": [
        "###Inner Product"
      ]
    },
    {
      "cell_type": "code",
      "execution_count": 93,
      "metadata": {
        "id": "Sq1XxwdJqVmD",
        "vscode": {
          "languageId": "python"
        },
        "outputId": "5f5625f7-0396-4aa3-b520-09bfe81102ba",
        "colab": {
          "base_uri": "https://localhost:8080/"
        }
      },
      "outputs": [
        {
          "output_type": "execute_result",
          "data": {
            "text/plain": [
              "30"
            ]
          },
          "metadata": {},
          "execution_count": 93
        }
      ],
      "source": [
        "a=np.array([1,5,7])\n",
        "b=np.array([3,4,1])\n",
        "np.inner(a, b)"
      ]
    },
    {
      "cell_type": "markdown",
      "metadata": {
        "id": "0s4JbvCHqZPd"
      },
      "source": [
        "###Norm"
      ]
    },
    {
      "cell_type": "code",
      "execution_count": 94,
      "metadata": {
        "id": "hiLBIhRbqcv7",
        "vscode": {
          "languageId": "python"
        },
        "outputId": "64173a0f-57d9-4e37-bcb2-92c5839c371a",
        "colab": {
          "base_uri": "https://localhost:8080/"
        }
      },
      "outputs": [
        {
          "output_type": "execute_result",
          "data": {
            "text/plain": [
              "16.673332000533065"
            ]
          },
          "metadata": {},
          "execution_count": 94
        }
      ],
      "source": [
        "A = np.matrix([[1,2,3],[3,5,6],[7,8,9]])\n",
        "np.linalg.norm(A)"
      ]
    },
    {
      "cell_type": "markdown",
      "metadata": {
        "id": "3lNoHqzeqf6q"
      },
      "source": [
        "###Eigenvalues and Eigenvectors"
      ]
    },
    {
      "cell_type": "code",
      "execution_count": 95,
      "metadata": {
        "id": "cI5qrkAnqgxV",
        "vscode": {
          "languageId": "python"
        }
      },
      "outputs": [],
      "source": [
        "A = np.array([[-5,2], [2,-2]])\n",
        "evals, evecs = np.linalg.eig(A)"
      ]
    },
    {
      "cell_type": "code",
      "execution_count": 96,
      "metadata": {
        "colab": {
          "base_uri": "https://localhost:8080/"
        },
        "id": "SJ-hTepzqjTy",
        "outputId": "552fbdbd-773d-420b-d38d-2d4ae8975c68",
        "vscode": {
          "languageId": "python"
        }
      },
      "outputs": [
        {
          "output_type": "execute_result",
          "data": {
            "text/plain": [
              "array([-6., -1.])"
            ]
          },
          "metadata": {},
          "execution_count": 96
        }
      ],
      "source": [
        "evals"
      ]
    },
    {
      "cell_type": "code",
      "execution_count": 98,
      "metadata": {
        "colab": {
          "base_uri": "https://localhost:8080/"
        },
        "id": "3IxNZpp8qmor",
        "outputId": "0f3ba361-f042-4955-def8-69dcd47ab608",
        "vscode": {
          "languageId": "python"
        }
      },
      "outputs": [
        {
          "output_type": "execute_result",
          "data": {
            "text/plain": [
              "array([[-0.89442719, -0.4472136 ],\n",
              "       [ 0.4472136 , -0.89442719]])"
            ]
          },
          "metadata": {},
          "execution_count": 98
        }
      ],
      "source": [
        "evecs"
      ]
    },
    {
      "cell_type": "markdown",
      "metadata": {
        "id": "P4mUHALKqqZi"
      },
      "source": [
        "###Matrix Diagonalization"
      ]
    },
    {
      "cell_type": "code",
      "execution_count": 97,
      "metadata": {
        "colab": {
          "base_uri": "https://localhost:8080/"
        },
        "id": "64KSZ3V2qvVL",
        "outputId": "1311f03d-c911-4d04-b4dc-7cba8dc815da",
        "vscode": {
          "languageId": "python"
        }
      },
      "outputs": [
        {
          "output_type": "execute_result",
          "data": {
            "text/plain": [
              "array([[ 2,  6],\n",
              "       [ 0, -1]])"
            ]
          },
          "metadata": {},
          "execution_count": 97
        }
      ],
      "source": [
        "A = np.array([[2,6],[0,-1]])\n",
        "A"
      ]
    },
    {
      "cell_type": "code",
      "execution_count": null,
      "metadata": {
        "id": "Ny3AxSAIqyOt",
        "vscode": {
          "languageId": "python"
        }
      },
      "outputs": [],
      "source": [
        "evals, evecs = np.linalg.eig(A)\n",
        "evals"
      ]
    },
    {
      "cell_type": "code",
      "execution_count": 102,
      "metadata": {
        "colab": {
          "base_uri": "https://localhost:8080/"
        },
        "id": "XVrUl-IYB5l5",
        "outputId": "03515b05-f04c-4e08-8fb3-9549edf2fee1",
        "vscode": {
          "languageId": "python"
        }
      },
      "outputs": [
        {
          "output_type": "execute_result",
          "data": {
            "text/plain": [
              "array([[-6., -0.],\n",
              "       [-0., -1.]])"
            ]
          },
          "metadata": {},
          "execution_count": 102
        }
      ],
      "source": [
        "evals2=evals*np.identity(2)\n",
        "evals2"
      ]
    },
    {
      "cell_type": "code",
      "execution_count": 101,
      "metadata": {
        "colab": {
          "base_uri": "https://localhost:8080/"
        },
        "id": "RvM7Wmfyq2o7",
        "outputId": "8d52ab20-441a-4c85-d541-ddd0c09627df",
        "vscode": {
          "languageId": "python"
        }
      },
      "outputs": [
        {
          "output_type": "execute_result",
          "data": {
            "text/plain": [
              "array([[-0.89442719, -0.4472136 ],\n",
              "       [ 0.4472136 , -0.89442719]])"
            ]
          },
          "metadata": {},
          "execution_count": 101
        }
      ],
      "source": [
        "evecs"
      ]
    },
    {
      "cell_type": "code",
      "execution_count": 100,
      "metadata": {
        "colab": {
          "base_uri": "https://localhost:8080/",
          "height": 194
        },
        "id": "Lf3sCwXkq4wX",
        "outputId": "4dd2a739-ef54-4e9d-ebfb-864b9e1c2466",
        "vscode": {
          "languageId": "python"
        }
      },
      "outputs": [
        {
          "output_type": "error",
          "ename": "NameError",
          "evalue": "name 'evals2' is not defined",
          "traceback": [
            "\u001b[0;31m---------------------------------------------------------------------------\u001b[0m",
            "\u001b[0;31mNameError\u001b[0m                                 Traceback (most recent call last)",
            "\u001b[0;32m<ipython-input-100-92da616029d9>\u001b[0m in \u001b[0;36m<cell line: 1>\u001b[0;34m()\u001b[0m\n\u001b[0;32m----> 1\u001b[0;31m \u001b[0mA\u001b[0m\u001b[0;34m=\u001b[0m\u001b[0mevecs\u001b[0m\u001b[0;34m@\u001b[0m\u001b[0mnp\u001b[0m\u001b[0;34m.\u001b[0m\u001b[0mdiag\u001b[0m\u001b[0;34m(\u001b[0m\u001b[0mevals2\u001b[0m\u001b[0;34m)\u001b[0m\u001b[0;34m@\u001b[0m\u001b[0mnp\u001b[0m\u001b[0;34m.\u001b[0m\u001b[0mlinalg\u001b[0m\u001b[0;34m.\u001b[0m\u001b[0minv\u001b[0m\u001b[0;34m(\u001b[0m\u001b[0mevecs\u001b[0m\u001b[0;34m)\u001b[0m\u001b[0;34m\u001b[0m\u001b[0;34m\u001b[0m\u001b[0m\n\u001b[0m\u001b[1;32m      2\u001b[0m \u001b[0mA\u001b[0m\u001b[0;34m\u001b[0m\u001b[0;34m\u001b[0m\u001b[0m\n",
            "\u001b[0;31mNameError\u001b[0m: name 'evals2' is not defined"
          ]
        }
      ],
      "source": [
        "A=evecs@np.diag(evals2)@np.linalg.inv(evecs)\n",
        "A"
      ]
    },
    {
      "cell_type": "markdown",
      "metadata": {
        "id": "dWBklYErq96G"
      },
      "source": [
        "###Singular value descomposition"
      ]
    },
    {
      "cell_type": "markdown",
      "metadata": {
        "id": "sWruCrdBrIyD"
      },
      "source": [
        "####Singular Value"
      ]
    },
    {
      "cell_type": "code",
      "execution_count": 99,
      "metadata": {
        "colab": {
          "base_uri": "https://localhost:8080/"
        },
        "id": "pKoqyPgmrHAS",
        "outputId": "898fbaa0-0815-4c49-d6db-c407c0408b10",
        "vscode": {
          "languageId": "python"
        }
      },
      "outputs": [
        {
          "output_type": "execute_result",
          "data": {
            "text/plain": [
              "matrix([[2, 1],\n",
              "        [1, 2]])"
            ]
          },
          "metadata": {},
          "execution_count": 99
        }
      ],
      "source": [
        "A=np.matrix([[0,1],[1,1],[1,0]])\n",
        "ATA=A.T@A\n",
        "ATA"
      ]
    },
    {
      "cell_type": "code",
      "execution_count": 103,
      "metadata": {
        "colab": {
          "base_uri": "https://localhost:8080/"
        },
        "id": "d5ocLi9mrPA0",
        "outputId": "ac2f9c4d-8979-4bdb-c331-3114d0ebf99d",
        "vscode": {
          "languageId": "python"
        }
      },
      "outputs": [
        {
          "output_type": "execute_result",
          "data": {
            "text/plain": [
              "array([1.73205081, 1.        ])"
            ]
          },
          "metadata": {},
          "execution_count": 103
        }
      ],
      "source": [
        "evals, evecs = np.linalg.eig(ATA)\n",
        "Singularvalues = np.sqrt(evals)\n",
        "Singularvalues"
      ]
    },
    {
      "cell_type": "markdown",
      "metadata": {
        "id": "bJUDa0DprTGF"
      },
      "source": [
        "####Singular Value Descomposition"
      ]
    },
    {
      "cell_type": "code",
      "execution_count": 104,
      "metadata": {
        "colab": {
          "base_uri": "https://localhost:8080/"
        },
        "id": "Lzez1qESrXr9",
        "outputId": "ed8cdd86-dffb-4f6e-f0c5-91fba211c7c2",
        "vscode": {
          "languageId": "python"
        }
      },
      "outputs": [
        {
          "output_type": "stream",
          "name": "stdout",
          "text": [
            "[[-4.08248290e-01  7.07106781e-01  5.77350269e-01]\n",
            " [-8.16496581e-01  7.45552182e-17 -5.77350269e-01]\n",
            " [-4.08248290e-01 -7.07106781e-01  5.77350269e-01]]\n",
            "[1.73205081 1.        ]\n",
            "[[-0.70710678 -0.70710678]\n",
            " [-0.70710678  0.70710678]]\n"
          ]
        }
      ],
      "source": [
        " [U, S, V] = np.linalg.svd(A)\n",
        " print(U)\n",
        " print(S)\n",
        " print(V)"
      ]
    },
    {
      "cell_type": "markdown",
      "metadata": {
        "id": "E0m-RsWVrkdF"
      },
      "source": [
        "###Quadratic Form"
      ]
    },
    {
      "cell_type": "code",
      "execution_count": 105,
      "metadata": {
        "colab": {
          "base_uri": "https://localhost:8080/"
        },
        "id": "5XAbglZkrmIr",
        "outputId": "97af6258-fa56-4d9d-fc2f-74c81a9b71c6",
        "vscode": {
          "languageId": "python"
        }
      },
      "outputs": [
        {
          "output_type": "stream",
          "name": "stdout",
          "text": [
            "x = Matrix([[x1], [x2]])\n",
            "Q = Matrix([[3, 4], [6, 1]])\n"
          ]
        }
      ],
      "source": [
        "x1,x2 = sp.symbols(\"x1 x2\") #Crear variables simbólicas\n",
        "x = sp.Matrix([[x1],[x2]]) #Agruparlas en una matriz\n",
        "Q = sp.Matrix([[3,4],[6,1]])\n",
        "print('x = %s'%x)\n",
        "print('Q = %s'%Q)"
      ]
    },
    {
      "cell_type": "code",
      "execution_count": null,
      "metadata": {
        "id": "r6qHFRaXr3se",
        "vscode": {
          "languageId": "python"
        }
      },
      "outputs": [],
      "source": [
        "QuadForm = x.T@Q@x #Cálculo forma cuadrática\n",
        "print('La forma cuadratica de Q es %s'%QuadForm)"
      ]
    },
    {
      "cell_type": "markdown",
      "metadata": {
        "id": "6CLNjRLYYakd"
      },
      "source": [
        "###Curves"
      ]
    },
    {
      "cell_type": "code",
      "execution_count": 106,
      "metadata": {
        "id": "WSb5WamzX4rg",
        "vscode": {
          "languageId": "python"
        }
      },
      "outputs": [],
      "source": [
        "def f(x, y):\n",
        "    return x**2+y**2\n",
        "\n",
        "x = np.linspace(-6, 6, 30)\n",
        "y = np.linspace(-6, 6, 30)\n",
        "\n",
        "X, Y = np.meshgrid(x, y)\n",
        "Z = f(X, Y)"
      ]
    },
    {
      "cell_type": "code",
      "execution_count": 107,
      "metadata": {
        "colab": {
          "base_uri": "https://localhost:8080/",
          "height": 415
        },
        "id": "CcgXuA2RX-Qd",
        "outputId": "c05d64d5-2eec-4efb-a03f-dd409d5239cc",
        "vscode": {
          "languageId": "python"
        }
      },
      "outputs": [
        {
          "output_type": "display_data",
          "data": {
            "text/plain": [
              "<Figure size 640x480 with 1 Axes>"
            ],
            "image/png": "[encoded data removed]"
          },
          "metadata": {}
        }
      ],
      "source": [
        "fig = plt.figure()\n",
        "ax = plt.axes(projection='3d')\n",
        "ax.contour3D(X, Y, Z, 50)\n",
        "ax.set_xlabel('x')\n",
        "ax.set_ylabel('y')\n",
        "ax.set_zlabel('z');"
      ]
    },
    {
      "cell_type": "markdown",
      "metadata": {
        "id": "kBy4mGfLr6JN"
      },
      "source": [
        "###Gradient"
      ]
    },
    {
      "cell_type": "code",
      "execution_count": 108,
      "metadata": {
        "colab": {
          "base_uri": "https://localhost:8080/",
          "height": 38
        },
        "id": "sDBiDuXAr9Lz",
        "outputId": "fddd94ab-78b7-49d7-c808-164dd1bef5de",
        "vscode": {
          "languageId": "python"
        }
      },
      "outputs": [
        {
          "output_type": "execute_result",
          "data": {
            "text/plain": [
              "x1**2 + 2*x1*x2 + 2*x1*x3 + 2*x2*x3 + x3**2"
            ],
            "text/latex": "$\\displaystyle x_{1}^{2} + 2 x_{1} x_{2} + 2 x_{1} x_{3} + 2 x_{2} x_{3} + x_{3}^{2}$"
          },
          "metadata": {},
          "execution_count": 108
        }
      ],
      "source": [
        "x1,x2,x3 = sp.symbols(\"x1, x2, x3\") #Crear variables simbólicas\n",
        "x = np.array([x1,x2,x3])\n",
        "fx =  x1**2 + x3**2 + 2*x1*x2 + 2*x1*x3 + 2*x2*x3\n",
        "fx"
      ]
    },
    {
      "cell_type": "code",
      "execution_count": 109,
      "metadata": {
        "colab": {
          "base_uri": "https://localhost:8080/"
        },
        "id": "zYwD_r_Hr98M",
        "outputId": "314511be-98c4-473f-a3b7-488e5f7ba8f8",
        "vscode": {
          "languageId": "python"
        }
      },
      "outputs": [
        {
          "output_type": "execute_result",
          "data": {
            "text/plain": [
              "[2*x1 + 2*x2 + 2*x3, 2*x1 + 2*x3, 2*x1 + 2*x2 + 2*x3]"
            ]
          },
          "metadata": {},
          "execution_count": 109
        }
      ],
      "source": [
        "gradf = [fx.diff(x) for x in (x1, x2,x3)] #Gradiente de f(x)\n",
        "gradf"
      ]
    },
    {
      "cell_type": "markdown",
      "metadata": {
        "id": "FPtBanFfsBPM"
      },
      "source": [
        "###Hessian Matrix"
      ]
    },
    {
      "cell_type": "code",
      "execution_count": 110,
      "metadata": {
        "colab": {
          "base_uri": "https://localhost:8080/"
        },
        "id": "DA1M3VvnsCyz",
        "outputId": "e524407c-31ac-40a0-85d9-635e00705960",
        "vscode": {
          "languageId": "python"
        }
      },
      "outputs": [
        {
          "output_type": "execute_result",
          "data": {
            "text/plain": [
              "[[[2, 2, 2], [2, 0, 2], [2, 2, 2]]]"
            ]
          },
          "metadata": {},
          "execution_count": 110
        }
      ],
      "source": [
        "hessf = [[[fx.diff(x1_,x2_) for x1_ in (x1, x2,x3)] for x2_ in (x1, x2,x3)]] #Matriz hessiana de f(x)\n",
        "hessf"
      ]
    },
    {
      "cell_type": "markdown",
      "metadata": {
        "id": "7tUxZokjsGOI"
      },
      "source": [
        "###Level Set"
      ]
    },
    {
      "cell_type": "code",
      "execution_count": 111,
      "metadata": {
        "id": "DjRcP-vssJmb",
        "vscode": {
          "languageId": "python"
        }
      },
      "outputs": [],
      "source": [
        "delta = 0.25\n",
        "x=np.arange(-3,3,delta)\n",
        "x1,x2 = np.meshgrid(x,x )\n",
        "f = x1**2 + x2**2"
      ]
    },
    {
      "cell_type": "code",
      "execution_count": 112,
      "metadata": {
        "colab": {
          "base_uri": "https://localhost:8080/",
          "height": 449
        },
        "id": "yVmsIenSsNwP",
        "outputId": "7aa6a113-9cb0-4eea-bd60-6ed0cc1f6094",
        "vscode": {
          "languageId": "python"
        }
      },
      "outputs": [
        {
          "output_type": "display_data",
          "data": {
            "text/plain": [
              "<Figure size 640x480 with 1 Axes>"
            ],
            "image/png": "[encoded data removed]"
          },
          "metadata": {}
        }
      ],
      "source": [
        "c= plt.contour ( x1 , x2 , f )\n",
        "plt.xlabel( 'x_1' )\n",
        "plt.ylabel( 'x_2' )\n",
        "plt.clabel( c ) ;\n",
        "#plt.axis([5,19,5,19])"
      ]
    },
    {
      "cell_type": "code",
      "execution_count": 113,
      "metadata": {
        "colab": {
          "base_uri": "https://localhost:8080/",
          "height": 466
        },
        "id": "jw-CIOeqsR2e",
        "outputId": "d2d91fea-af40-49b4-e06a-1fe5ca995b86",
        "vscode": {
          "languageId": "python"
        }
      },
      "outputs": [
        {
          "output_type": "execute_result",
          "data": {
            "text/plain": [
              "(24, 24)"
            ]
          },
          "metadata": {},
          "execution_count": 113
        },
        {
          "output_type": "display_data",
          "data": {
            "text/plain": [
              "<Figure size 640x480 with 1 Axes>"
            ],
            "image/png": "[encoded data removed]"
          },
          "metadata": {}
        }
      ],
      "source": [
        "delta = 0.25 ;\n",
        "x=np.arange(-3,3,delta)\n",
        "x1,x2 = np.meshgrid(x,x )\n",
        "f = x1**2 + x2**2\n",
        "[fx1 ,fx2 ] = np.gradient( f , delta , delta ) ;\n",
        "plt.contour ( x1 , x2 , f )\n",
        "plt.xlabel ( 'x_1' )\n",
        "plt.ylabel ( 'x_2' )\n",
        "plt.quiver (x2,x1, fx1 , fx2 )\n",
        "fx1.shape"
      ]
    },
    {
      "cell_type": "markdown",
      "metadata": {
        "id": "nV-3RJ9osT3F"
      },
      "source": [
        "###Directional Derivative"
      ]
    },
    {
      "cell_type": "code",
      "execution_count": 114,
      "metadata": {
        "colab": {
          "base_uri": "https://localhost:8080/",
          "height": 38
        },
        "id": "_yQgwZ4SsZoZ",
        "outputId": "8206412f-efea-43f7-edb8-f2b50150c108",
        "vscode": {
          "languageId": "python"
        }
      },
      "outputs": [
        {
          "output_type": "execute_result",
          "data": {
            "text/plain": [
              "x1*x2*x3"
            ],
            "text/latex": "$\\displaystyle x_{1} x_{2} x_{3}$"
          },
          "metadata": {},
          "execution_count": 114
        }
      ],
      "source": [
        "x1,x2,x3 = sp.symbols(\"x1, x2, x3\")\n",
        "fx = x1*x2*x3\n",
        "fx"
      ]
    },
    {
      "cell_type": "code",
      "execution_count": 115,
      "metadata": {
        "colab": {
          "base_uri": "https://localhost:8080/"
        },
        "id": "SKW_Dme5sbrZ",
        "outputId": "ce7d0ed5-4b32-47bb-e650-c0b9b111cb9e",
        "vscode": {
          "languageId": "python"
        }
      },
      "outputs": [
        {
          "output_type": "execute_result",
          "data": {
            "text/plain": [
              "array([[0.66666667],\n",
              "       [0.33333333],\n",
              "       [0.66666667]])"
            ]
          },
          "metadata": {},
          "execution_count": 115
        }
      ],
      "source": [
        "d = np.array([[2/3],[1/3],[2/3]])\n",
        "d"
      ]
    },
    {
      "cell_type": "code",
      "execution_count": 116,
      "metadata": {
        "colab": {
          "base_uri": "https://localhost:8080/"
        },
        "id": "EG42LgxTsd1s",
        "outputId": "1cc31118-d8e8-41f6-b2a3-20585ddaedaa",
        "vscode": {
          "languageId": "python"
        }
      },
      "outputs": [
        {
          "output_type": "stream",
          "name": "stdout",
          "text": [
            "the directional derivate of f(x) in the direction of d is [0.666666666666667*x1*x2 + 0.333333333333333*x1*x3 + 0.666666666666667*x2*x3]\n"
          ]
        }
      ],
      "source": [
        "gradf = [fx.diff(x) for x in (x1, x2,x3)] #Gradiente de f(x)\n",
        "derdir = np.asarray(gradf).T@d\n",
        "print('the directional derivate of f(x) in the direction of d is %s'%derdir)"
      ]
    },
    {
      "cell_type": "markdown",
      "metadata": {
        "id": "2BNtVqA5rMF8"
      },
      "source": [
        "##Matplotlib"
      ]
    },
    {
      "cell_type": "markdown",
      "metadata": {
        "id": "eI48UTocrfq8"
      },
      "source": [
        "Matplotlib es una biblioteca de graficas. En esta sección, se hace una breve introducción al módulo matplotlib.pyplot, que proporciona un sistema de trazado similar al de MATLAB."
      ]
    },
    {
      "cell_type": "code",
      "execution_count": 117,
      "metadata": {
        "id": "uBKYG_wyrUnB",
        "vscode": {
          "languageId": "python"
        }
      },
      "outputs": [],
      "source": [
        "import matplotlib.pyplot as plt"
      ]
    },
    {
      "cell_type": "markdown",
      "metadata": {
        "id": "USngvYgdtaYX"
      },
      "source": [
        "Al ejecutar este comando especial de iPython, mostraremos gráficos en línea:"
      ]
    },
    {
      "cell_type": "code",
      "execution_count": 118,
      "metadata": {
        "id": "Y54Z9JI7tUIh",
        "vscode": {
          "languageId": "python"
        }
      },
      "outputs": [],
      "source": [
        "%matplotlib inline"
      ]
    },
    {
      "cell_type": "markdown",
      "metadata": {
        "id": "OBicprKhvA2A"
      },
      "source": [
        "###Graficar"
      ]
    },
    {
      "cell_type": "markdown",
      "metadata": {
        "id": "BeMzFtQ0vJEs"
      },
      "source": [
        "The most important function in `matplotlib` is plot, which allows you to plot 2D data. Here is a simple example:"
      ]
    },
    {
      "cell_type": "code",
      "execution_count": 119,
      "metadata": {
        "id": "0eCu67x3vRNq",
        "vscode": {
          "languageId": "python"
        },
        "outputId": "3feca167-4dcc-4f0a-a049-eb239995d909",
        "colab": {
          "base_uri": "https://localhost:8080/",
          "height": 447
        }
      },
      "outputs": [
        {
          "output_type": "execute_result",
          "data": {
            "text/plain": [
              "[<matplotlib.lines.Line2D at 0x7e218c5b2380>]"
            ]
          },
          "metadata": {},
          "execution_count": 119
        },
        {
          "output_type": "display_data",
          "data": {
            "text/plain": [
              "<Figure size 640x480 with 1 Axes>"
            ],
            "image/png": "[encoded data removed]"
          },
          "metadata": {}
        }
      ],
      "source": [
        "# Calcule las coordenadas xy para puntos en una curva sinusoidal\n",
        "\n",
        "x = np.arange(0, 3 * np.pi, 0.1)\n",
        "y = np.sin(x)\n",
        "\n",
        "# Trazar los puntos usando matplotlib\n",
        "plt.plot(x, y)"
      ]
    },
    {
      "cell_type": "markdown",
      "metadata": {
        "id": "kWhBdixUwKKQ"
      },
      "source": [
        "Con solo un poco de trabajo adicional, podemos trazar fácilmente varias líneas a la vez y agregar un título, una leyenda y etiquetas de eje:"
      ]
    },
    {
      "cell_type": "code",
      "execution_count": 120,
      "metadata": {
        "id": "qvuBBMMFvYkJ",
        "vscode": {
          "languageId": "python"
        },
        "outputId": "f707781a-906b-48c5-f756-3661baa9a795",
        "colab": {
          "base_uri": "https://localhost:8080/",
          "height": 489
        }
      },
      "outputs": [
        {
          "output_type": "execute_result",
          "data": {
            "text/plain": [
              "<matplotlib.legend.Legend at 0x7e218c402770>"
            ]
          },
          "metadata": {},
          "execution_count": 120
        },
        {
          "output_type": "display_data",
          "data": {
            "text/plain": [
              "<Figure size 640x480 with 1 Axes>"
            ],
            "image/png": "[encoded data removed]"
          },
          "metadata": {}
        }
      ],
      "source": [
        "y_sin = np.sin(x)\n",
        "y_cos = np.cos(x)\n",
        "\n",
        "# Plot the points using matplotlib\n",
        "plt.plot(x, y_sin)\n",
        "plt.plot(x, y_cos)\n",
        "plt.xlabel('x axis label')\n",
        "plt.ylabel('y axis label')\n",
        "plt.title('Sine and Cosine')\n",
        "plt.legend(['Sine', 'Cosine'])"
      ]
    },
    {
      "cell_type": "markdown",
      "metadata": {
        "id": "5ez8buDXwpqQ"
      },
      "source": [
        "###Subplots"
      ]
    },
    {
      "cell_type": "markdown",
      "metadata": {
        "id": "sC8IFrXiw2BK"
      },
      "source": [
        "Puede trazar diferentes cosas en la misma figura usando la función de subplot. Aquí hay un ejemplo:"
      ]
    },
    {
      "cell_type": "code",
      "execution_count": 121,
      "metadata": {
        "id": "qXdIKFB7vVW6",
        "vscode": {
          "languageId": "python"
        },
        "outputId": "cb8f0857-9a9c-4a4f-93ef-0c87452b52e8",
        "colab": {
          "base_uri": "https://localhost:8080/",
          "height": 251
        }
      },
      "outputs": [
        {
          "output_type": "display_data",
          "data": {
            "text/plain": [
              "<Figure size 640x480 with 1 Axes>"
            ],
            "image/png": "[encoded data removed]"
          },
          "metadata": {}
        }
      ],
      "source": [
        "# Calcule las coordenadas xey para puntos en curvas seno y coseno\n",
        "x = np.arange(0, 3 * np.pi, 0.1)\n",
        "y_sin = np.sin(x)\n",
        "y_cos = np.cos(x)\n",
        "\n",
        "# Configure una cuadrícula de subparcela que tenga altura 2 y ancho 1,\n",
        "# y establezca el primer subplot como activa\n",
        "plt.subplot(2, 1, 1)\n",
        "\n",
        "# Hacer la primera gráfica\n",
        "plt.plot(x, y_sin)\n",
        "plt.title('Sine')\n",
        "\n",
        "# Establezca la segunda subparcela como activa y haga el segundo subplot.\n",
        "plt.plot(x, y_cos)\n",
        "plt.title('Cosine')\n",
        "\n",
        "# Mostrar la figura.\n",
        "plt.show()"
      ]
    },
    {
      "cell_type": "markdown",
      "metadata": {
        "id": "V2hekbcncLBA"
      },
      "source": [
        "##Instalar archivos, clonar repositorios y omandos del S.O"
      ]
    },
    {
      "cell_type": "code",
      "execution_count": 122,
      "metadata": {
        "id": "qdGezZ2cvWPh",
        "vscode": {
          "languageId": "python"
        },
        "outputId": "7c7399d0-4c27-4f7b-f731-41b8aba28595",
        "colab": {
          "base_uri": "https://localhost:8080/"
        }
      },
      "outputs": [
        {
          "output_type": "stream",
          "name": "stdout",
          "text": [
            "Requirement already satisfied: tensorflow in /usr/local/lib/python3.10/dist-packages (2.15.0)\n",
            "Requirement already satisfied: absl-py>=1.0.0 in /usr/local/lib/python3.10/dist-packages (from tensorflow) (1.4.0)\n",
            "Requirement already satisfied: astunparse>=1.6.0 in /usr/local/lib/python3.10/dist-packages (from tensorflow) (1.6.3)\n",
            "Requirement already satisfied: flatbuffers>=23.5.26 in /usr/local/lib/python3.10/dist-packages (from tensorflow) (23.5.26)\n",
            "Requirement already satisfied: gast!=0.5.0,!=0.5.1,!=0.5.2,>=0.2.1 in /usr/local/lib/python3.10/dist-packages (from tensorflow) (0.5.4)\n",
            "Requirement already satisfied: google-pasta>=0.1.1 in /usr/local/lib/python3.10/dist-packages (from tensorflow) (0.2.0)\n",
            "Requirement already satisfied: h5py>=2.9.0 in /usr/local/lib/python3.10/dist-packages (from tensorflow) (3.9.0)\n",
            "Requirement already satisfied: libclang>=13.0.0 in /usr/local/lib/python3.10/dist-packages (from tensorflow) (16.0.6)\n",
            "Requirement already satisfied: ml-dtypes~=0.2.0 in /usr/local/lib/python3.10/dist-packages (from tensorflow) (0.2.0)\n",
            "Requirement already satisfied: numpy<2.0.0,>=1.23.5 in /usr/local/lib/python3.10/dist-packages (from tensorflow) (1.23.5)\n",
            "Requirement already satisfied: opt-einsum>=2.3.2 in /usr/local/lib/python3.10/dist-packages (from tensorflow) (3.3.0)\n",
            "Requirement already satisfied: packaging in /usr/local/lib/python3.10/dist-packages (from tensorflow) (23.2)\n",
            "Requirement already satisfied: protobuf!=4.21.0,!=4.21.1,!=4.21.2,!=4.21.3,!=4.21.4,!=4.21.5,<5.0.0dev,>=3.20.3 in /usr/local/lib/python3.10/dist-packages (from tensorflow) (3.20.3)\n",
            "Requirement already satisfied: setuptools in /usr/local/lib/python3.10/dist-packages (from tensorflow) (67.7.2)\n",
            "Requirement already satisfied: six>=1.12.0 in /usr/local/lib/python3.10/dist-packages (from tensorflow) (1.16.0)\n",
            "Requirement already satisfied: termcolor>=1.1.0 in /usr/local/lib/python3.10/dist-packages (from tensorflow) (2.4.0)\n",
            "Requirement already satisfied: typing-extensions>=3.6.6 in /usr/local/lib/python3.10/dist-packages (from tensorflow) (4.9.0)\n",
            "Requirement already satisfied: wrapt<1.15,>=1.11.0 in /usr/local/lib/python3.10/dist-packages (from tensorflow) (1.14.1)\n",
            "Requirement already satisfied: tensorflow-io-gcs-filesystem>=0.23.1 in /usr/local/lib/python3.10/dist-packages (from tensorflow) (0.36.0)\n",
            "Requirement already satisfied: grpcio<2.0,>=1.24.3 in /usr/local/lib/python3.10/dist-packages (from tensorflow) (1.60.1)\n",
            "Requirement already satisfied: tensorboard<2.16,>=2.15 in /usr/local/lib/python3.10/dist-packages (from tensorflow) (2.15.1)\n",
            "Requirement already satisfied: tensorflow-estimator<2.16,>=2.15.0 in /usr/local/lib/python3.10/dist-packages (from tensorflow) (2.15.0)\n",
            "Requirement already satisfied: keras<2.16,>=2.15.0 in /usr/local/lib/python3.10/dist-packages (from tensorflow) (2.15.0)\n",
            "Requirement already satisfied: wheel<1.0,>=0.23.0 in /usr/local/lib/python3.10/dist-packages (from astunparse>=1.6.0->tensorflow) (0.42.0)\n",
            "Requirement already satisfied: google-auth<3,>=1.6.3 in /usr/local/lib/python3.10/dist-packages (from tensorboard<2.16,>=2.15->tensorflow) (2.27.0)\n",
            "Requirement already satisfied: google-auth-oauthlib<2,>=0.5 in /usr/local/lib/python3.10/dist-packages (from tensorboard<2.16,>=2.15->tensorflow) (1.2.0)\n",
            "Requirement already satisfied: markdown>=2.6.8 in /usr/local/lib/python3.10/dist-packages (from tensorboard<2.16,>=2.15->tensorflow) (3.5.2)\n",
            "Requirement already satisfied: requests<3,>=2.21.0 in /usr/local/lib/python3.10/dist-packages (from tensorboard<2.16,>=2.15->tensorflow) (2.31.0)\n",
            "Requirement already satisfied: tensorboard-data-server<0.8.0,>=0.7.0 in /usr/local/lib/python3.10/dist-packages (from tensorboard<2.16,>=2.15->tensorflow) (0.7.2)\n",
            "Requirement already satisfied: werkzeug>=1.0.1 in /usr/local/lib/python3.10/dist-packages (from tensorboard<2.16,>=2.15->tensorflow) (3.0.1)\n",
            "Requirement already satisfied: cachetools<6.0,>=2.0.0 in /usr/local/lib/python3.10/dist-packages (from google-auth<3,>=1.6.3->tensorboard<2.16,>=2.15->tensorflow) (5.3.2)\n",
            "Requirement already satisfied: pyasn1-modules>=0.2.1 in /usr/local/lib/python3.10/dist-packages (from google-auth<3,>=1.6.3->tensorboard<2.16,>=2.15->tensorflow) (0.3.0)\n",
            "Requirement already satisfied: rsa<5,>=3.1.4 in /usr/local/lib/python3.10/dist-packages (from google-auth<3,>=1.6.3->tensorboard<2.16,>=2.15->tensorflow) (4.9)\n",
            "Requirement already satisfied: requests-oauthlib>=0.7.0 in /usr/local/lib/python3.10/dist-packages (from google-auth-oauthlib<2,>=0.5->tensorboard<2.16,>=2.15->tensorflow) (1.3.1)\n",
            "Requirement already satisfied: charset-normalizer<4,>=2 in /usr/local/lib/python3.10/dist-packages (from requests<3,>=2.21.0->tensorboard<2.16,>=2.15->tensorflow) (3.3.2)\n",
            "Requirement already satisfied: idna<4,>=2.5 in /usr/local/lib/python3.10/dist-packages (from requests<3,>=2.21.0->tensorboard<2.16,>=2.15->tensorflow) (3.6)\n",
            "Requirement already satisfied: urllib3<3,>=1.21.1 in /usr/local/lib/python3.10/dist-packages (from requests<3,>=2.21.0->tensorboard<2.16,>=2.15->tensorflow) (2.0.7)\n",
            "Requirement already satisfied: certifi>=2017.4.17 in /usr/local/lib/python3.10/dist-packages (from requests<3,>=2.21.0->tensorboard<2.16,>=2.15->tensorflow) (2024.2.2)\n",
            "Requirement already satisfied: MarkupSafe>=2.1.1 in /usr/local/lib/python3.10/dist-packages (from werkzeug>=1.0.1->tensorboard<2.16,>=2.15->tensorflow) (2.1.5)\n",
            "Requirement already satisfied: pyasn1<0.6.0,>=0.4.6 in /usr/local/lib/python3.10/dist-packages (from pyasn1-modules>=0.2.1->google-auth<3,>=1.6.3->tensorboard<2.16,>=2.15->tensorflow) (0.5.1)\n",
            "Requirement already satisfied: oauthlib>=3.0.0 in /usr/local/lib/python3.10/dist-packages (from requests-oauthlib>=0.7.0->google-auth-oauthlib<2,>=0.5->tensorboard<2.16,>=2.15->tensorflow) (3.2.2)\n",
            "^C\n"
          ]
        }
      ],
      "source": [
        "pip install tensorflow"
      ]
    },
    {
      "cell_type": "code",
      "execution_count": null,
      "metadata": {
        "id": "5MJgA16Yc6j4",
        "vscode": {
          "languageId": "python"
        }
      },
      "outputs": [],
      "source": [
        "!ls\n",
        "\n"
      ]
    },
    {
      "cell_type": "code",
      "execution_count": null,
      "metadata": {
        "id": "lwnbP5BIgpxU",
        "vscode": {
          "languageId": "python"
        }
      },
      "outputs": [],
      "source": [
        "cd prueba/"
      ]
    },
    {
      "cell_type": "code",
      "execution_count": null,
      "metadata": {
        "id": "uVqJa8Lrkxcv",
        "vscode": {
          "languageId": "python"
        }
      },
      "outputs": [],
      "source": [
        "!git clone https://github.com/MarioBolanos/Metodo-de-Euler.git"
      ]
    },
    {
      "cell_type": "markdown",
      "metadata": {
        "id": "WowhwCtxhPE4"
      },
      "source": [
        "##Subir y bajar  archivos"
      ]
    },
    {
      "cell_type": "markdown",
      "metadata": {
        "id": "198TdiFUhUQh"
      },
      "source": []
    },
    {
      "cell_type": "code",
      "execution_count": null,
      "metadata": {
        "id": "cOojGC6WhXQI",
        "vscode": {
          "languageId": "python"
        }
      },
      "outputs": [],
      "source": [
        "from google.colab import files"
      ]
    },
    {
      "cell_type": "code",
      "execution_count": null,
      "metadata": {
        "id": "h-TH9-W9hhgX",
        "vscode": {
          "languageId": "python"
        }
      },
      "outputs": [],
      "source": [
        "files.upload()"
      ]
    },
    {
      "cell_type": "code",
      "execution_count": null,
      "metadata": {
        "id": "0oHbN-FslVGD",
        "vscode": {
          "languageId": "python"
        }
      },
      "outputs": [],
      "source": [
        "files.download('tele.png')"
      ]
    },
    {
      "cell_type": "markdown",
      "metadata": {
        "id": "1zgRuh0ucZrA"
      },
      "source": [
        "##Usar GPU"
      ]
    },
    {
      "cell_type": "code",
      "execution_count": null,
      "metadata": {
        "id": "hwknJLcEiaSZ",
        "vscode": {
          "languageId": "python"
        }
      },
      "outputs": [],
      "source": [
        "import tensorflow as tf\n",
        "device_name=tf.test.gpu_device_name()\n",
        "if device_name != '/device:GPU:0':\n",
        "   raise SystemError('no hay GPU')\n",
        "print('found gpu at {}'.format(device_name))"
      ]
    }
  ],
  "metadata": {
    "accelerator": "GPU",
    "colab": {
      "name": "Introducción_Python_Colab_Analisis_Numerico.ipynb",
      "provenance": [],
      "include_colab_link": true
    },
    "kernelspec": {
      "display_name": "Python 3",
      "name": "python3"
    }
  },
  "nbformat": 4,
  "nbformat_minor": 0
}